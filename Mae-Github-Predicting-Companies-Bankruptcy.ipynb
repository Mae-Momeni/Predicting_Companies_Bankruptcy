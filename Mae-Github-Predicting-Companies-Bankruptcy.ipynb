{
 "cells": [
  {
   "cell_type": "markdown",
   "id": "0589fec3",
   "metadata": {},
   "source": [
    "# Predicting Companies Bankruptcy"
   ]
  },
  {
   "cell_type": "markdown",
   "id": "88d4dae9",
   "metadata": {},
   "source": [
    "**The dataset is about bankruptcy prediction of Polish companies**"
   ]
  },
  {
   "cell_type": "markdown",
   "id": "35008bb5",
   "metadata": {},
   "source": [
    "### Data Set Information:\n",
    "\n",
    "**The dataset is about bankruptcy prediction of Polish companies**\n",
    "\n",
    "The data was collected from Emerging Markets Information Service (EMIS, [Web Link]), which is a database containing information on emerging markets around the world. The bankrupt companies were analyzed in the period 2000-2012, while the still operating companies were evaluated from 2007 to 2013.\n",
    "\n",
    "Basing on the collected data five classification cases were distinguished, that depends on the forecasting period:\n",
    "\n",
    "- 1stYear: the data contains financial rates from 1st year of the forecasting period and corresponding class label that indicates bankruptcy status after 5 years. The data contains 7027 instances (financial statements), 271 represents bankrupted companies, 6756 firms that did not bankrupt in the forecasting period.\n",
    "\n",
    "- 2ndYear: the data contains financial rates from 2nd year of the forecasting period and corresponding class label that indicates bankruptcy status after 4 years. The data contains 10173 instances (financial statements), 400 represents bankrupted companies, 9773 firms that did not bankrupt in the forecasting period.\n",
    "\n",
    "- 3rdYear: the data contains financial rates from 3rd year of the forecasting period and corresponding class label that indicates bankruptcy status after 3 years. The data contains 10503 instances (financial statements), 495 represents bankrupted companies, 10008 firms that did not bankrupt in the forecasting period.\n",
    "\n",
    "- 4thYear: the data contains financial rates from 4th year of the forecasting period and corresponding class label that indicates bankruptcy status after 2 years. The data contains 9792 instances (financial statements), 515 represents bankrupted companies, 9277 firms that did not bankrupt in the forecasting period.\n",
    "\n",
    "- 5thYear: the data contains financial rates from 5th year of the forecasting period and corresponding class label that indicates bankruptcy status after 1 year. The data contains 5910 instances (financial statements), 410 represents bankrupted companies, 5500 firms that did not bankrupt in the forecasting period."
   ]
  },
  {
   "cell_type": "markdown",
   "id": "89873f87",
   "metadata": {},
   "source": [
    "### Features description\n",
    "\n",
    "- X1\tnet profit / total assets\n",
    "- X2\ttotal liabilities / total assets \n",
    "- X3\tworking capital / total assets \n",
    "- X4\tcurrent assets / short-term liabilities \n",
    "- X5\t[(cash + short-term securities + receivables - short-term liabilities) / (operating expenses - depreciation)] * 365 \n",
    "- X6\tretained earnings / total assets \n",
    "- X7\tEBIT / total assets \n",
    "- X8\tbook value of equity / total liabilities \n",
    "- X9\tsales / total assets \n",
    "- X10\tequity / total assets \n",
    "- X11\t(gross profit + extraordinary items + financial expenses) / total assets \n",
    "- X12\tgross profit / short-term liabilities \n",
    "- X13\t(gross profit + depreciation) / sales \n",
    "- X14\t(gross profit + interest) / total assets \n",
    "- X15\t(total liabilities * 365) / (gross profit + depreciation) \n",
    "- X16\t(gross profit + depreciation) / total liabilities \n",
    "- X17\ttotal assets / total liabilities \n",
    "- X18\tgross profit / total assets \n",
    "- X19\tgross profit / sales \n",
    "- X20\t(inventory * 365) / sales \n",
    "- X21\tsales (n) / sales (n-1) \n",
    "- X22\tprofit on operating activities / total assets \n",
    "- X23\tnet profit / sales \n",
    "- X24\tgross profit (in 3 years) / total assets \n",
    "- X25\t(equity - share capital) / total assets \n",
    "- X26\t(net profit + depreciation) / total liabilities \n",
    "- X27\tprofit on operating activities / financial expenses \n",
    "- X28\tworking capital / fixed assets \n",
    "- X29\tlogarithm of total assets \n",
    "- X30\t(total liabilities - cash) / sales \n",
    "- X31\t(gross profit + interest) / sales \n",
    "- X32\t(current liabilities * 365) / cost of products sold \n",
    "- X33\toperating expenses / short-term liabilities \n",
    "- X34\toperating expenses / total liabilities \n",
    "- X35\tprofit on sales / total assets \n",
    "- X36\ttotal sales / total assets \n",
    "- X37\t(current assets - inventories) / long-term liabilities \n",
    "- X38\tconstant capital / total assets \n",
    "- X39\tprofit on sales / sales \n",
    "- X40\t(current assets - inventory - receivables) / short-term liabilities \n",
    "- X41\ttotal liabilities / ((profit on operating activities + depreciation) * (12/365)) \n",
    "- X42\tprofit on operating activities / sales \n",
    "- X43\trotation receivables + inventory turnover in days \n",
    "- X44\t(receivables * 365) / sales \n",
    "- X45\tnet profit / inventory \n",
    "- X46\t(current assets - inventory) / short-term liabilities \n",
    "- X47\t(inventory * 365) / cost of products sold \n",
    "- X48\tEBITDA (profit on operating activities - depreciation) / total assets \n",
    "- X49\tEBITDA (profit on operating activities - depreciation) / sales \n",
    "- X50\tcurrent assets / total liabilities \n",
    "- X51\tshort-term liabilities / total assets \n",
    "- X52\t(short-term liabilities * 365) / cost of products sold) \n",
    "- X53\tequity / fixed assets \n",
    "- X54\tconstant capital / fixed assets \n",
    "- X55\tworking capital \n",
    "- X56\t(sales - cost of products sold) / sales \n",
    "- X57\t(current assets - inventory - short-term liabilities) / (sales - gross profit - depreciation) \n",
    "- X58\ttotal costs /total sales \n",
    "- X59\tlong-term liabilities / equity \n",
    "- X60\tsales / inventory \n",
    "- X61\tsales / receivables \n",
    "- X62\t(short-term liabilities *365) / sales \n",
    "- X63\tsales / short-term liabilities \n",
    "- X64\tsales / fixed assets"
   ]
  },
  {
   "cell_type": "code",
   "execution_count": 1,
   "id": "f92f8598",
   "metadata": {},
   "outputs": [],
   "source": [
    "import numpy as np\n",
    "import pandas as pd\n",
    "import matplotlib.pyplot as plt\n",
    "from scipy.io.arff import loadarff\n",
    "%matplotlib inline\n",
    "from sklearn.model_selection import train_test_split\n",
    "from sklearn.metrics import accuracy_score, confusion_matrix, precision_score, recall_score\n",
    "from sklearn.preprocessing import RobustScaler\n",
    "from sklearn.linear_model import LogisticRegression\n",
    "from sklearn.tree import DecisionTreeClassifier\n",
    "from sklearn.naive_bayes import GaussianNB\n",
    "from collections import OrderedDict"
   ]
  },
  {
   "cell_type": "markdown",
   "id": "77a94172",
   "metadata": {},
   "source": [
    "## Data Preparation"
   ]
  },
  {
   "cell_type": "markdown",
   "id": "871e77c5",
   "metadata": {},
   "source": [
    "### Loading Data"
   ]
  },
  {
   "cell_type": "markdown",
   "id": "c7020dbf",
   "metadata": {},
   "source": [
    "- Let's create a list called \"data_objects\". \n",
    "- The elements of this list are 5 data arrays each for 1 year"
   ]
  },
  {
   "cell_type": "code",
   "execution_count": 2,
   "id": "d581ea5f",
   "metadata": {},
   "outputs": [],
   "source": [
    "dataList = []\n",
    "for i in range(1, 6):\n",
    "    i = str(i)\n",
    "    filename = i + \"year.arff\"\n",
    "    dataList.append(loadarff(\".\\\\data\\\\bankruptcy\\\\\" + filename))"
   ]
  },
  {
   "cell_type": "markdown",
   "id": "778cd202",
   "metadata": {},
   "source": [
    "### Creating the data frames:"
   ]
  },
  {
   "cell_type": "markdown",
   "id": "2b1c0d63",
   "metadata": {},
   "source": [
    "We need to transform the elemnts of the \"data_objects\" list from arrays to dataframes:"
   ]
  },
  {
   "cell_type": "code",
   "execution_count": 3,
   "id": "9636a1d9",
   "metadata": {},
   "outputs": [
    {
     "data": {
      "text/html": [
       "<div>\n",
       "<style scoped>\n",
       "    .dataframe tbody tr th:only-of-type {\n",
       "        vertical-align: middle;\n",
       "    }\n",
       "\n",
       "    .dataframe tbody tr th {\n",
       "        vertical-align: top;\n",
       "    }\n",
       "\n",
       "    .dataframe thead th {\n",
       "        text-align: right;\n",
       "    }\n",
       "</style>\n",
       "<table border=\"1\" class=\"dataframe\">\n",
       "  <thead>\n",
       "    <tr style=\"text-align: right;\">\n",
       "      <th></th>\n",
       "      <th>Attr1</th>\n",
       "      <th>Attr2</th>\n",
       "      <th>Attr3</th>\n",
       "      <th>Attr4</th>\n",
       "      <th>Attr5</th>\n",
       "      <th>Attr6</th>\n",
       "      <th>Attr7</th>\n",
       "      <th>Attr8</th>\n",
       "      <th>Attr9</th>\n",
       "      <th>Attr10</th>\n",
       "      <th>...</th>\n",
       "      <th>Attr56</th>\n",
       "      <th>Attr57</th>\n",
       "      <th>Attr58</th>\n",
       "      <th>Attr59</th>\n",
       "      <th>Attr60</th>\n",
       "      <th>Attr61</th>\n",
       "      <th>Attr62</th>\n",
       "      <th>Attr63</th>\n",
       "      <th>Attr64</th>\n",
       "      <th>class</th>\n",
       "    </tr>\n",
       "  </thead>\n",
       "  <tbody>\n",
       "    <tr>\n",
       "      <th>0</th>\n",
       "      <td>0.200550</td>\n",
       "      <td>0.37951</td>\n",
       "      <td>0.39641</td>\n",
       "      <td>2.0472</td>\n",
       "      <td>32.3510</td>\n",
       "      <td>0.38825</td>\n",
       "      <td>0.249760</td>\n",
       "      <td>1.33050</td>\n",
       "      <td>1.1389</td>\n",
       "      <td>0.50494</td>\n",
       "      <td>...</td>\n",
       "      <td>0.121960</td>\n",
       "      <td>0.39718</td>\n",
       "      <td>0.87804</td>\n",
       "      <td>0.001924</td>\n",
       "      <td>8.4160</td>\n",
       "      <td>5.1372</td>\n",
       "      <td>82.658</td>\n",
       "      <td>4.4158</td>\n",
       "      <td>7.4277</td>\n",
       "      <td>b'0'</td>\n",
       "    </tr>\n",
       "    <tr>\n",
       "      <th>1</th>\n",
       "      <td>0.209120</td>\n",
       "      <td>0.49988</td>\n",
       "      <td>0.47225</td>\n",
       "      <td>1.9447</td>\n",
       "      <td>14.7860</td>\n",
       "      <td>0.00000</td>\n",
       "      <td>0.258340</td>\n",
       "      <td>0.99601</td>\n",
       "      <td>1.6996</td>\n",
       "      <td>0.49788</td>\n",
       "      <td>...</td>\n",
       "      <td>0.121300</td>\n",
       "      <td>0.42002</td>\n",
       "      <td>0.85300</td>\n",
       "      <td>0.000000</td>\n",
       "      <td>4.1486</td>\n",
       "      <td>3.2732</td>\n",
       "      <td>107.350</td>\n",
       "      <td>3.4000</td>\n",
       "      <td>60.9870</td>\n",
       "      <td>b'0'</td>\n",
       "    </tr>\n",
       "    <tr>\n",
       "      <th>2</th>\n",
       "      <td>0.248660</td>\n",
       "      <td>0.69592</td>\n",
       "      <td>0.26713</td>\n",
       "      <td>1.5548</td>\n",
       "      <td>-1.1523</td>\n",
       "      <td>0.00000</td>\n",
       "      <td>0.309060</td>\n",
       "      <td>0.43695</td>\n",
       "      <td>1.3090</td>\n",
       "      <td>0.30408</td>\n",
       "      <td>...</td>\n",
       "      <td>0.241140</td>\n",
       "      <td>0.81774</td>\n",
       "      <td>0.76599</td>\n",
       "      <td>0.694840</td>\n",
       "      <td>4.9909</td>\n",
       "      <td>3.9510</td>\n",
       "      <td>134.270</td>\n",
       "      <td>2.7185</td>\n",
       "      <td>5.2078</td>\n",
       "      <td>b'0'</td>\n",
       "    </tr>\n",
       "    <tr>\n",
       "      <th>3</th>\n",
       "      <td>0.081483</td>\n",
       "      <td>0.30734</td>\n",
       "      <td>0.45879</td>\n",
       "      <td>2.4928</td>\n",
       "      <td>51.9520</td>\n",
       "      <td>0.14988</td>\n",
       "      <td>0.092704</td>\n",
       "      <td>1.86610</td>\n",
       "      <td>1.0571</td>\n",
       "      <td>0.57353</td>\n",
       "      <td>...</td>\n",
       "      <td>0.054015</td>\n",
       "      <td>0.14207</td>\n",
       "      <td>0.94598</td>\n",
       "      <td>0.000000</td>\n",
       "      <td>4.5746</td>\n",
       "      <td>3.6147</td>\n",
       "      <td>86.435</td>\n",
       "      <td>4.2228</td>\n",
       "      <td>5.5497</td>\n",
       "      <td>b'0'</td>\n",
       "    </tr>\n",
       "    <tr>\n",
       "      <th>4</th>\n",
       "      <td>0.187320</td>\n",
       "      <td>0.61323</td>\n",
       "      <td>0.22960</td>\n",
       "      <td>1.4063</td>\n",
       "      <td>-7.3128</td>\n",
       "      <td>0.18732</td>\n",
       "      <td>0.187320</td>\n",
       "      <td>0.63070</td>\n",
       "      <td>1.1559</td>\n",
       "      <td>0.38677</td>\n",
       "      <td>...</td>\n",
       "      <td>0.134850</td>\n",
       "      <td>0.48431</td>\n",
       "      <td>0.86515</td>\n",
       "      <td>0.124440</td>\n",
       "      <td>6.3985</td>\n",
       "      <td>4.3158</td>\n",
       "      <td>127.210</td>\n",
       "      <td>2.8692</td>\n",
       "      <td>7.8980</td>\n",
       "      <td>b'0'</td>\n",
       "    </tr>\n",
       "  </tbody>\n",
       "</table>\n",
       "<p>5 rows × 65 columns</p>\n",
       "</div>"
      ],
      "text/plain": [
       "      Attr1    Attr2    Attr3   Attr4    Attr5    Attr6     Attr7    Attr8  \\\n",
       "0  0.200550  0.37951  0.39641  2.0472  32.3510  0.38825  0.249760  1.33050   \n",
       "1  0.209120  0.49988  0.47225  1.9447  14.7860  0.00000  0.258340  0.99601   \n",
       "2  0.248660  0.69592  0.26713  1.5548  -1.1523  0.00000  0.309060  0.43695   \n",
       "3  0.081483  0.30734  0.45879  2.4928  51.9520  0.14988  0.092704  1.86610   \n",
       "4  0.187320  0.61323  0.22960  1.4063  -7.3128  0.18732  0.187320  0.63070   \n",
       "\n",
       "    Attr9   Attr10  ...    Attr56   Attr57   Attr58    Attr59  Attr60  Attr61  \\\n",
       "0  1.1389  0.50494  ...  0.121960  0.39718  0.87804  0.001924  8.4160  5.1372   \n",
       "1  1.6996  0.49788  ...  0.121300  0.42002  0.85300  0.000000  4.1486  3.2732   \n",
       "2  1.3090  0.30408  ...  0.241140  0.81774  0.76599  0.694840  4.9909  3.9510   \n",
       "3  1.0571  0.57353  ...  0.054015  0.14207  0.94598  0.000000  4.5746  3.6147   \n",
       "4  1.1559  0.38677  ...  0.134850  0.48431  0.86515  0.124440  6.3985  4.3158   \n",
       "\n",
       "    Attr62  Attr63   Attr64  class  \n",
       "0   82.658  4.4158   7.4277   b'0'  \n",
       "1  107.350  3.4000  60.9870   b'0'  \n",
       "2  134.270  2.7185   5.2078   b'0'  \n",
       "3   86.435  4.2228   5.5497   b'0'  \n",
       "4  127.210  2.8692   7.8980   b'0'  \n",
       "\n",
       "[5 rows x 65 columns]"
      ]
     },
     "execution_count": 3,
     "metadata": {},
     "output_type": "execute_result"
    }
   ],
   "source": [
    "dfList = [pd.DataFrame.from_records(data = x[0]) for x in dataList]\n",
    "dfList[0].head()"
   ]
  },
  {
   "cell_type": "code",
   "execution_count": 4,
   "id": "12ba60a4",
   "metadata": {},
   "outputs": [
    {
     "data": {
      "text/html": [
       "<div>\n",
       "<style scoped>\n",
       "    .dataframe tbody tr th:only-of-type {\n",
       "        vertical-align: middle;\n",
       "    }\n",
       "\n",
       "    .dataframe tbody tr th {\n",
       "        vertical-align: top;\n",
       "    }\n",
       "\n",
       "    .dataframe thead th {\n",
       "        text-align: right;\n",
       "    }\n",
       "</style>\n",
       "<table border=\"1\" class=\"dataframe\">\n",
       "  <thead>\n",
       "    <tr style=\"text-align: right;\">\n",
       "      <th></th>\n",
       "      <th>Attr1</th>\n",
       "      <th>Attr2</th>\n",
       "      <th>Attr3</th>\n",
       "      <th>Attr4</th>\n",
       "      <th>Attr5</th>\n",
       "      <th>Attr6</th>\n",
       "      <th>Attr7</th>\n",
       "      <th>Attr8</th>\n",
       "      <th>Attr9</th>\n",
       "      <th>Attr10</th>\n",
       "      <th>...</th>\n",
       "      <th>Attr56</th>\n",
       "      <th>Attr57</th>\n",
       "      <th>Attr58</th>\n",
       "      <th>Attr59</th>\n",
       "      <th>Attr60</th>\n",
       "      <th>Attr61</th>\n",
       "      <th>Attr62</th>\n",
       "      <th>Attr63</th>\n",
       "      <th>Attr64</th>\n",
       "      <th>class</th>\n",
       "    </tr>\n",
       "  </thead>\n",
       "  <tbody>\n",
       "    <tr>\n",
       "      <th>0</th>\n",
       "      <td>0.200550</td>\n",
       "      <td>0.37951</td>\n",
       "      <td>0.39641</td>\n",
       "      <td>2.0472</td>\n",
       "      <td>32.3510</td>\n",
       "      <td>0.38825</td>\n",
       "      <td>0.249760</td>\n",
       "      <td>1.33050</td>\n",
       "      <td>1.1389</td>\n",
       "      <td>0.50494</td>\n",
       "      <td>...</td>\n",
       "      <td>0.121960</td>\n",
       "      <td>0.39718</td>\n",
       "      <td>0.87804</td>\n",
       "      <td>0.001924</td>\n",
       "      <td>8.4160</td>\n",
       "      <td>5.1372</td>\n",
       "      <td>82.658</td>\n",
       "      <td>4.4158</td>\n",
       "      <td>7.4277</td>\n",
       "      <td>b'0'</td>\n",
       "    </tr>\n",
       "    <tr>\n",
       "      <th>1</th>\n",
       "      <td>0.209120</td>\n",
       "      <td>0.49988</td>\n",
       "      <td>0.47225</td>\n",
       "      <td>1.9447</td>\n",
       "      <td>14.7860</td>\n",
       "      <td>0.00000</td>\n",
       "      <td>0.258340</td>\n",
       "      <td>0.99601</td>\n",
       "      <td>1.6996</td>\n",
       "      <td>0.49788</td>\n",
       "      <td>...</td>\n",
       "      <td>0.121300</td>\n",
       "      <td>0.42002</td>\n",
       "      <td>0.85300</td>\n",
       "      <td>0.000000</td>\n",
       "      <td>4.1486</td>\n",
       "      <td>3.2732</td>\n",
       "      <td>107.350</td>\n",
       "      <td>3.4000</td>\n",
       "      <td>60.9870</td>\n",
       "      <td>b'0'</td>\n",
       "    </tr>\n",
       "    <tr>\n",
       "      <th>2</th>\n",
       "      <td>0.248660</td>\n",
       "      <td>0.69592</td>\n",
       "      <td>0.26713</td>\n",
       "      <td>1.5548</td>\n",
       "      <td>-1.1523</td>\n",
       "      <td>0.00000</td>\n",
       "      <td>0.309060</td>\n",
       "      <td>0.43695</td>\n",
       "      <td>1.3090</td>\n",
       "      <td>0.30408</td>\n",
       "      <td>...</td>\n",
       "      <td>0.241140</td>\n",
       "      <td>0.81774</td>\n",
       "      <td>0.76599</td>\n",
       "      <td>0.694840</td>\n",
       "      <td>4.9909</td>\n",
       "      <td>3.9510</td>\n",
       "      <td>134.270</td>\n",
       "      <td>2.7185</td>\n",
       "      <td>5.2078</td>\n",
       "      <td>b'0'</td>\n",
       "    </tr>\n",
       "    <tr>\n",
       "      <th>3</th>\n",
       "      <td>0.081483</td>\n",
       "      <td>0.30734</td>\n",
       "      <td>0.45879</td>\n",
       "      <td>2.4928</td>\n",
       "      <td>51.9520</td>\n",
       "      <td>0.14988</td>\n",
       "      <td>0.092704</td>\n",
       "      <td>1.86610</td>\n",
       "      <td>1.0571</td>\n",
       "      <td>0.57353</td>\n",
       "      <td>...</td>\n",
       "      <td>0.054015</td>\n",
       "      <td>0.14207</td>\n",
       "      <td>0.94598</td>\n",
       "      <td>0.000000</td>\n",
       "      <td>4.5746</td>\n",
       "      <td>3.6147</td>\n",
       "      <td>86.435</td>\n",
       "      <td>4.2228</td>\n",
       "      <td>5.5497</td>\n",
       "      <td>b'0'</td>\n",
       "    </tr>\n",
       "    <tr>\n",
       "      <th>4</th>\n",
       "      <td>0.187320</td>\n",
       "      <td>0.61323</td>\n",
       "      <td>0.22960</td>\n",
       "      <td>1.4063</td>\n",
       "      <td>-7.3128</td>\n",
       "      <td>0.18732</td>\n",
       "      <td>0.187320</td>\n",
       "      <td>0.63070</td>\n",
       "      <td>1.1559</td>\n",
       "      <td>0.38677</td>\n",
       "      <td>...</td>\n",
       "      <td>0.134850</td>\n",
       "      <td>0.48431</td>\n",
       "      <td>0.86515</td>\n",
       "      <td>0.124440</td>\n",
       "      <td>6.3985</td>\n",
       "      <td>4.3158</td>\n",
       "      <td>127.210</td>\n",
       "      <td>2.8692</td>\n",
       "      <td>7.8980</td>\n",
       "      <td>b'0'</td>\n",
       "    </tr>\n",
       "  </tbody>\n",
       "</table>\n",
       "<p>5 rows × 65 columns</p>\n",
       "</div>"
      ],
      "text/plain": [
       "      Attr1    Attr2    Attr3   Attr4    Attr5    Attr6     Attr7    Attr8  \\\n",
       "0  0.200550  0.37951  0.39641  2.0472  32.3510  0.38825  0.249760  1.33050   \n",
       "1  0.209120  0.49988  0.47225  1.9447  14.7860  0.00000  0.258340  0.99601   \n",
       "2  0.248660  0.69592  0.26713  1.5548  -1.1523  0.00000  0.309060  0.43695   \n",
       "3  0.081483  0.30734  0.45879  2.4928  51.9520  0.14988  0.092704  1.86610   \n",
       "4  0.187320  0.61323  0.22960  1.4063  -7.3128  0.18732  0.187320  0.63070   \n",
       "\n",
       "    Attr9   Attr10  ...    Attr56   Attr57   Attr58    Attr59  Attr60  Attr61  \\\n",
       "0  1.1389  0.50494  ...  0.121960  0.39718  0.87804  0.001924  8.4160  5.1372   \n",
       "1  1.6996  0.49788  ...  0.121300  0.42002  0.85300  0.000000  4.1486  3.2732   \n",
       "2  1.3090  0.30408  ...  0.241140  0.81774  0.76599  0.694840  4.9909  3.9510   \n",
       "3  1.0571  0.57353  ...  0.054015  0.14207  0.94598  0.000000  4.5746  3.6147   \n",
       "4  1.1559  0.38677  ...  0.134850  0.48431  0.86515  0.124440  6.3985  4.3158   \n",
       "\n",
       "    Attr62  Attr63   Attr64  class  \n",
       "0   82.658  4.4158   7.4277   b'0'  \n",
       "1  107.350  3.4000  60.9870   b'0'  \n",
       "2  134.270  2.7185   5.2078   b'0'  \n",
       "3   86.435  4.2228   5.5497   b'0'  \n",
       "4  127.210  2.8692   7.8980   b'0'  \n",
       "\n",
       "[5 rows x 65 columns]"
      ]
     },
     "execution_count": 4,
     "metadata": {},
     "output_type": "execute_result"
    }
   ],
   "source": [
    "companies = pd.concat(dfList, axis = 0)\n",
    "companies.head()"
   ]
  },
  {
   "cell_type": "markdown",
   "id": "d4738797",
   "metadata": {},
   "source": [
    "### Rename the columns"
   ]
  },
  {
   "cell_type": "code",
   "execution_count": 5,
   "id": "37f89cd7",
   "metadata": {},
   "outputs": [
    {
     "data": {
      "text/plain": [
       "(43405, 65)"
      ]
     },
     "execution_count": 5,
     "metadata": {},
     "output_type": "execute_result"
    }
   ],
   "source": [
    "oldColNam = companies.columns\n",
    "newColNam = [\"x\"+ str(i) for i in range(1, 65)] + [\"bankrupt\"]\n",
    "newColDic = {k:v for k,v in zip(oldColNam, newColNam)}\n",
    "companies.rename(columns = newColDic, inplace = True)\n",
    "companies[\"bankrupt\"] = companies[\"bankrupt\"].astype(int)\n",
    "companies.shape"
   ]
  },
  {
   "cell_type": "code",
   "execution_count": 6,
   "id": "00958b46",
   "metadata": {},
   "outputs": [
    {
     "data": {
      "text/html": [
       "<div>\n",
       "<style scoped>\n",
       "    .dataframe tbody tr th:only-of-type {\n",
       "        vertical-align: middle;\n",
       "    }\n",
       "\n",
       "    .dataframe tbody tr th {\n",
       "        vertical-align: top;\n",
       "    }\n",
       "\n",
       "    .dataframe thead th {\n",
       "        text-align: right;\n",
       "    }\n",
       "</style>\n",
       "<table border=\"1\" class=\"dataframe\">\n",
       "  <thead>\n",
       "    <tr style=\"text-align: right;\">\n",
       "      <th></th>\n",
       "      <th>x1</th>\n",
       "      <th>x2</th>\n",
       "      <th>x3</th>\n",
       "      <th>x4</th>\n",
       "      <th>x5</th>\n",
       "      <th>x6</th>\n",
       "      <th>x7</th>\n",
       "      <th>x8</th>\n",
       "      <th>x9</th>\n",
       "      <th>x10</th>\n",
       "      <th>...</th>\n",
       "      <th>x56</th>\n",
       "      <th>x57</th>\n",
       "      <th>x58</th>\n",
       "      <th>x59</th>\n",
       "      <th>x60</th>\n",
       "      <th>x61</th>\n",
       "      <th>x62</th>\n",
       "      <th>x63</th>\n",
       "      <th>x64</th>\n",
       "      <th>bankrupt</th>\n",
       "    </tr>\n",
       "  </thead>\n",
       "  <tbody>\n",
       "    <tr>\n",
       "      <th>0</th>\n",
       "      <td>0.200550</td>\n",
       "      <td>0.37951</td>\n",
       "      <td>0.39641</td>\n",
       "      <td>2.0472</td>\n",
       "      <td>32.3510</td>\n",
       "      <td>0.38825</td>\n",
       "      <td>0.249760</td>\n",
       "      <td>1.33050</td>\n",
       "      <td>1.1389</td>\n",
       "      <td>0.50494</td>\n",
       "      <td>...</td>\n",
       "      <td>0.121960</td>\n",
       "      <td>0.39718</td>\n",
       "      <td>0.87804</td>\n",
       "      <td>0.001924</td>\n",
       "      <td>8.4160</td>\n",
       "      <td>5.1372</td>\n",
       "      <td>82.658</td>\n",
       "      <td>4.4158</td>\n",
       "      <td>7.4277</td>\n",
       "      <td>0</td>\n",
       "    </tr>\n",
       "    <tr>\n",
       "      <th>1</th>\n",
       "      <td>0.209120</td>\n",
       "      <td>0.49988</td>\n",
       "      <td>0.47225</td>\n",
       "      <td>1.9447</td>\n",
       "      <td>14.7860</td>\n",
       "      <td>0.00000</td>\n",
       "      <td>0.258340</td>\n",
       "      <td>0.99601</td>\n",
       "      <td>1.6996</td>\n",
       "      <td>0.49788</td>\n",
       "      <td>...</td>\n",
       "      <td>0.121300</td>\n",
       "      <td>0.42002</td>\n",
       "      <td>0.85300</td>\n",
       "      <td>0.000000</td>\n",
       "      <td>4.1486</td>\n",
       "      <td>3.2732</td>\n",
       "      <td>107.350</td>\n",
       "      <td>3.4000</td>\n",
       "      <td>60.9870</td>\n",
       "      <td>0</td>\n",
       "    </tr>\n",
       "    <tr>\n",
       "      <th>2</th>\n",
       "      <td>0.248660</td>\n",
       "      <td>0.69592</td>\n",
       "      <td>0.26713</td>\n",
       "      <td>1.5548</td>\n",
       "      <td>-1.1523</td>\n",
       "      <td>0.00000</td>\n",
       "      <td>0.309060</td>\n",
       "      <td>0.43695</td>\n",
       "      <td>1.3090</td>\n",
       "      <td>0.30408</td>\n",
       "      <td>...</td>\n",
       "      <td>0.241140</td>\n",
       "      <td>0.81774</td>\n",
       "      <td>0.76599</td>\n",
       "      <td>0.694840</td>\n",
       "      <td>4.9909</td>\n",
       "      <td>3.9510</td>\n",
       "      <td>134.270</td>\n",
       "      <td>2.7185</td>\n",
       "      <td>5.2078</td>\n",
       "      <td>0</td>\n",
       "    </tr>\n",
       "    <tr>\n",
       "      <th>3</th>\n",
       "      <td>0.081483</td>\n",
       "      <td>0.30734</td>\n",
       "      <td>0.45879</td>\n",
       "      <td>2.4928</td>\n",
       "      <td>51.9520</td>\n",
       "      <td>0.14988</td>\n",
       "      <td>0.092704</td>\n",
       "      <td>1.86610</td>\n",
       "      <td>1.0571</td>\n",
       "      <td>0.57353</td>\n",
       "      <td>...</td>\n",
       "      <td>0.054015</td>\n",
       "      <td>0.14207</td>\n",
       "      <td>0.94598</td>\n",
       "      <td>0.000000</td>\n",
       "      <td>4.5746</td>\n",
       "      <td>3.6147</td>\n",
       "      <td>86.435</td>\n",
       "      <td>4.2228</td>\n",
       "      <td>5.5497</td>\n",
       "      <td>0</td>\n",
       "    </tr>\n",
       "    <tr>\n",
       "      <th>4</th>\n",
       "      <td>0.187320</td>\n",
       "      <td>0.61323</td>\n",
       "      <td>0.22960</td>\n",
       "      <td>1.4063</td>\n",
       "      <td>-7.3128</td>\n",
       "      <td>0.18732</td>\n",
       "      <td>0.187320</td>\n",
       "      <td>0.63070</td>\n",
       "      <td>1.1559</td>\n",
       "      <td>0.38677</td>\n",
       "      <td>...</td>\n",
       "      <td>0.134850</td>\n",
       "      <td>0.48431</td>\n",
       "      <td>0.86515</td>\n",
       "      <td>0.124440</td>\n",
       "      <td>6.3985</td>\n",
       "      <td>4.3158</td>\n",
       "      <td>127.210</td>\n",
       "      <td>2.8692</td>\n",
       "      <td>7.8980</td>\n",
       "      <td>0</td>\n",
       "    </tr>\n",
       "  </tbody>\n",
       "</table>\n",
       "<p>5 rows × 65 columns</p>\n",
       "</div>"
      ],
      "text/plain": [
       "         x1       x2       x3      x4       x5       x6        x7       x8  \\\n",
       "0  0.200550  0.37951  0.39641  2.0472  32.3510  0.38825  0.249760  1.33050   \n",
       "1  0.209120  0.49988  0.47225  1.9447  14.7860  0.00000  0.258340  0.99601   \n",
       "2  0.248660  0.69592  0.26713  1.5548  -1.1523  0.00000  0.309060  0.43695   \n",
       "3  0.081483  0.30734  0.45879  2.4928  51.9520  0.14988  0.092704  1.86610   \n",
       "4  0.187320  0.61323  0.22960  1.4063  -7.3128  0.18732  0.187320  0.63070   \n",
       "\n",
       "       x9      x10  ...       x56      x57      x58       x59     x60     x61  \\\n",
       "0  1.1389  0.50494  ...  0.121960  0.39718  0.87804  0.001924  8.4160  5.1372   \n",
       "1  1.6996  0.49788  ...  0.121300  0.42002  0.85300  0.000000  4.1486  3.2732   \n",
       "2  1.3090  0.30408  ...  0.241140  0.81774  0.76599  0.694840  4.9909  3.9510   \n",
       "3  1.0571  0.57353  ...  0.054015  0.14207  0.94598  0.000000  4.5746  3.6147   \n",
       "4  1.1559  0.38677  ...  0.134850  0.48431  0.86515  0.124440  6.3985  4.3158   \n",
       "\n",
       "       x62     x63      x64  bankrupt  \n",
       "0   82.658  4.4158   7.4277         0  \n",
       "1  107.350  3.4000  60.9870         0  \n",
       "2  134.270  2.7185   5.2078         0  \n",
       "3   86.435  4.2228   5.5497         0  \n",
       "4  127.210  2.8692   7.8980         0  \n",
       "\n",
       "[5 rows x 65 columns]"
      ]
     },
     "execution_count": 6,
     "metadata": {},
     "output_type": "execute_result"
    }
   ],
   "source": [
    "companies.head()"
   ]
  },
  {
   "cell_type": "markdown",
   "id": "7d52d316",
   "metadata": {},
   "source": [
    "### Dealing with missing values\n"
   ]
  },
  {
   "cell_type": "markdown",
   "id": "86db4333",
   "metadata": {},
   "source": [
    "- This data set has a lot of missing value. We will address them as follow.\n",
    "- This is only a quick way for demonstartion purpose. In reality we must be more carefule."
   ]
  },
  {
   "cell_type": "markdown",
   "id": "87bc29b1",
   "metadata": {},
   "source": [
    "Let's count the number of null values in each row:"
   ]
  },
  {
   "cell_type": "code",
   "execution_count": 7,
   "id": "1812e33a",
   "metadata": {},
   "outputs": [],
   "source": [
    "featuresNullCount = companies.isnull().sum()"
   ]
  },
  {
   "cell_type": "markdown",
   "id": "bf26bf7d",
   "metadata": {},
   "source": [
    "delete features with more 2000 missing data:"
   ]
  },
  {
   "cell_type": "code",
   "execution_count": 8,
   "id": "1ad92138",
   "metadata": {
    "scrolled": true
   },
   "outputs": [
    {
     "data": {
      "text/plain": [
       "Index(['x21', 'x27', 'x37', 'x45', 'x60'], dtype='object')"
      ]
     },
     "execution_count": 8,
     "metadata": {},
     "output_type": "execute_result"
    }
   ],
   "source": [
    "featuresToDrop = featuresNullCount[featuresNullCount > 2000].index\n",
    "featuresToDrop"
   ]
  },
  {
   "cell_type": "markdown",
   "id": "7ce07523",
   "metadata": {},
   "source": [
    "Drop the mentioned featured:"
   ]
  },
  {
   "cell_type": "code",
   "execution_count": 9,
   "id": "d14812db",
   "metadata": {},
   "outputs": [],
   "source": [
    "companies.drop(featuresToDrop, axis = 1, inplace = True)"
   ]
  },
  {
   "cell_type": "markdown",
   "id": "44fb9699",
   "metadata": {},
   "source": [
    "For the rest of features, we will fill their missed data by the median:"
   ]
  },
  {
   "cell_type": "code",
   "execution_count": 10,
   "id": "c9e03b30",
   "metadata": {},
   "outputs": [
    {
     "data": {
      "text/plain": [
       "(43405, 60)"
      ]
     },
     "execution_count": 10,
     "metadata": {},
     "output_type": "execute_result"
    }
   ],
   "source": [
    "companies.fillna(companies.median(), inplace = True)\n",
    "companies.shape"
   ]
  },
  {
   "cell_type": "markdown",
   "id": "ed05643f",
   "metadata": {},
   "source": [
    "So, we do not have missed data any more."
   ]
  },
  {
   "cell_type": "code",
   "execution_count": 11,
   "id": "8bef4001",
   "metadata": {},
   "outputs": [
    {
     "data": {
      "text/html": [
       "<div>\n",
       "<style scoped>\n",
       "    .dataframe tbody tr th:only-of-type {\n",
       "        vertical-align: middle;\n",
       "    }\n",
       "\n",
       "    .dataframe tbody tr th {\n",
       "        vertical-align: top;\n",
       "    }\n",
       "\n",
       "    .dataframe thead th {\n",
       "        text-align: right;\n",
       "    }\n",
       "</style>\n",
       "<table border=\"1\" class=\"dataframe\">\n",
       "  <thead>\n",
       "    <tr style=\"text-align: right;\">\n",
       "      <th></th>\n",
       "      <th>x1</th>\n",
       "      <th>x2</th>\n",
       "      <th>x3</th>\n",
       "      <th>x4</th>\n",
       "      <th>x5</th>\n",
       "      <th>x6</th>\n",
       "      <th>x7</th>\n",
       "      <th>x8</th>\n",
       "      <th>x9</th>\n",
       "      <th>x10</th>\n",
       "      <th>...</th>\n",
       "      <th>x55</th>\n",
       "      <th>x56</th>\n",
       "      <th>x57</th>\n",
       "      <th>x58</th>\n",
       "      <th>x59</th>\n",
       "      <th>x61</th>\n",
       "      <th>x62</th>\n",
       "      <th>x63</th>\n",
       "      <th>x64</th>\n",
       "      <th>bankrupt</th>\n",
       "    </tr>\n",
       "  </thead>\n",
       "  <tbody>\n",
       "    <tr>\n",
       "      <th>0</th>\n",
       "      <td>0.200550</td>\n",
       "      <td>0.37951</td>\n",
       "      <td>0.39641</td>\n",
       "      <td>2.0472</td>\n",
       "      <td>32.3510</td>\n",
       "      <td>0.38825</td>\n",
       "      <td>0.249760</td>\n",
       "      <td>1.33050</td>\n",
       "      <td>1.1389</td>\n",
       "      <td>0.50494</td>\n",
       "      <td>...</td>\n",
       "      <td>348690.0</td>\n",
       "      <td>0.121960</td>\n",
       "      <td>0.39718</td>\n",
       "      <td>0.87804</td>\n",
       "      <td>0.001924</td>\n",
       "      <td>5.1372</td>\n",
       "      <td>82.658</td>\n",
       "      <td>4.4158</td>\n",
       "      <td>7.4277</td>\n",
       "      <td>0</td>\n",
       "    </tr>\n",
       "    <tr>\n",
       "      <th>1</th>\n",
       "      <td>0.209120</td>\n",
       "      <td>0.49988</td>\n",
       "      <td>0.47225</td>\n",
       "      <td>1.9447</td>\n",
       "      <td>14.7860</td>\n",
       "      <td>0.00000</td>\n",
       "      <td>0.258340</td>\n",
       "      <td>0.99601</td>\n",
       "      <td>1.6996</td>\n",
       "      <td>0.49788</td>\n",
       "      <td>...</td>\n",
       "      <td>2304.6</td>\n",
       "      <td>0.121300</td>\n",
       "      <td>0.42002</td>\n",
       "      <td>0.85300</td>\n",
       "      <td>0.000000</td>\n",
       "      <td>3.2732</td>\n",
       "      <td>107.350</td>\n",
       "      <td>3.4000</td>\n",
       "      <td>60.9870</td>\n",
       "      <td>0</td>\n",
       "    </tr>\n",
       "    <tr>\n",
       "      <th>2</th>\n",
       "      <td>0.248660</td>\n",
       "      <td>0.69592</td>\n",
       "      <td>0.26713</td>\n",
       "      <td>1.5548</td>\n",
       "      <td>-1.1523</td>\n",
       "      <td>0.00000</td>\n",
       "      <td>0.309060</td>\n",
       "      <td>0.43695</td>\n",
       "      <td>1.3090</td>\n",
       "      <td>0.30408</td>\n",
       "      <td>...</td>\n",
       "      <td>6332.7</td>\n",
       "      <td>0.241140</td>\n",
       "      <td>0.81774</td>\n",
       "      <td>0.76599</td>\n",
       "      <td>0.694840</td>\n",
       "      <td>3.9510</td>\n",
       "      <td>134.270</td>\n",
       "      <td>2.7185</td>\n",
       "      <td>5.2078</td>\n",
       "      <td>0</td>\n",
       "    </tr>\n",
       "    <tr>\n",
       "      <th>3</th>\n",
       "      <td>0.081483</td>\n",
       "      <td>0.30734</td>\n",
       "      <td>0.45879</td>\n",
       "      <td>2.4928</td>\n",
       "      <td>51.9520</td>\n",
       "      <td>0.14988</td>\n",
       "      <td>0.092704</td>\n",
       "      <td>1.86610</td>\n",
       "      <td>1.0571</td>\n",
       "      <td>0.57353</td>\n",
       "      <td>...</td>\n",
       "      <td>20545.0</td>\n",
       "      <td>0.054015</td>\n",
       "      <td>0.14207</td>\n",
       "      <td>0.94598</td>\n",
       "      <td>0.000000</td>\n",
       "      <td>3.6147</td>\n",
       "      <td>86.435</td>\n",
       "      <td>4.2228</td>\n",
       "      <td>5.5497</td>\n",
       "      <td>0</td>\n",
       "    </tr>\n",
       "    <tr>\n",
       "      <th>4</th>\n",
       "      <td>0.187320</td>\n",
       "      <td>0.61323</td>\n",
       "      <td>0.22960</td>\n",
       "      <td>1.4063</td>\n",
       "      <td>-7.3128</td>\n",
       "      <td>0.18732</td>\n",
       "      <td>0.187320</td>\n",
       "      <td>0.63070</td>\n",
       "      <td>1.1559</td>\n",
       "      <td>0.38677</td>\n",
       "      <td>...</td>\n",
       "      <td>3186.6</td>\n",
       "      <td>0.134850</td>\n",
       "      <td>0.48431</td>\n",
       "      <td>0.86515</td>\n",
       "      <td>0.124440</td>\n",
       "      <td>4.3158</td>\n",
       "      <td>127.210</td>\n",
       "      <td>2.8692</td>\n",
       "      <td>7.8980</td>\n",
       "      <td>0</td>\n",
       "    </tr>\n",
       "  </tbody>\n",
       "</table>\n",
       "<p>5 rows × 60 columns</p>\n",
       "</div>"
      ],
      "text/plain": [
       "         x1       x2       x3      x4       x5       x6        x7       x8  \\\n",
       "0  0.200550  0.37951  0.39641  2.0472  32.3510  0.38825  0.249760  1.33050   \n",
       "1  0.209120  0.49988  0.47225  1.9447  14.7860  0.00000  0.258340  0.99601   \n",
       "2  0.248660  0.69592  0.26713  1.5548  -1.1523  0.00000  0.309060  0.43695   \n",
       "3  0.081483  0.30734  0.45879  2.4928  51.9520  0.14988  0.092704  1.86610   \n",
       "4  0.187320  0.61323  0.22960  1.4063  -7.3128  0.18732  0.187320  0.63070   \n",
       "\n",
       "       x9      x10  ...       x55       x56      x57      x58       x59  \\\n",
       "0  1.1389  0.50494  ...  348690.0  0.121960  0.39718  0.87804  0.001924   \n",
       "1  1.6996  0.49788  ...    2304.6  0.121300  0.42002  0.85300  0.000000   \n",
       "2  1.3090  0.30408  ...    6332.7  0.241140  0.81774  0.76599  0.694840   \n",
       "3  1.0571  0.57353  ...   20545.0  0.054015  0.14207  0.94598  0.000000   \n",
       "4  1.1559  0.38677  ...    3186.6  0.134850  0.48431  0.86515  0.124440   \n",
       "\n",
       "      x61      x62     x63      x64  bankrupt  \n",
       "0  5.1372   82.658  4.4158   7.4277         0  \n",
       "1  3.2732  107.350  3.4000  60.9870         0  \n",
       "2  3.9510  134.270  2.7185   5.2078         0  \n",
       "3  3.6147   86.435  4.2228   5.5497         0  \n",
       "4  4.3158  127.210  2.8692   7.8980         0  \n",
       "\n",
       "[5 rows x 60 columns]"
      ]
     },
     "execution_count": 11,
     "metadata": {},
     "output_type": "execute_result"
    }
   ],
   "source": [
    "companies.head()"
   ]
  },
  {
   "cell_type": "markdown",
   "id": "88e6c29e",
   "metadata": {},
   "source": [
    "### We have an unballanced classification problem:\n",
    "- As can be seen below, the target data is either 0 or 1 and about 95% of them are 0. This means that the data is unbalanced."
   ]
  },
  {
   "cell_type": "code",
   "execution_count": 12,
   "id": "19fe3873",
   "metadata": {},
   "outputs": [
    {
     "data": {
      "text/plain": [
       "0    95.182583\n",
       "1     4.817417\n",
       "Name: bankrupt, dtype: float64"
      ]
     },
     "execution_count": 12,
     "metadata": {},
     "output_type": "execute_result"
    }
   ],
   "source": [
    "100 * companies[\"bankrupt\"].value_counts(normalize = True)"
   ]
  },
  {
   "cell_type": "code",
   "execution_count": 13,
   "id": "67f58d27",
   "metadata": {},
   "outputs": [
    {
     "name": "stdout",
     "output_type": "stream",
     "text": [
      "95.18% of companies are still operating\n",
      "4.82% of companies are barnkrupted\n"
     ]
    }
   ],
   "source": [
    "print('{}% of companies are still operating'.format(round(100 * companies['bankrupt']\n",
    "                                                       .value_counts(normalize = True)[0], 2)))\n",
    "\n",
    "print('{}% of companies are barnkrupted'.format(round(100 * companies['bankrupt']\n",
    "                                                      .value_counts(normalize = True)[1], 2)))"
   ]
  },
  {
   "cell_type": "markdown",
   "id": "d5b3af6b",
   "metadata": {},
   "source": [
    "## Predicting Bankrutcy using the unballanced dataset:\n"
   ]
  },
  {
   "cell_type": "markdown",
   "id": "34f32dde",
   "metadata": {},
   "source": [
    "#### Defining a function to create the confuxion matrix"
   ]
  },
  {
   "cell_type": "code",
   "execution_count": 14,
   "id": "18c75742",
   "metadata": {},
   "outputs": [],
   "source": [
    "def printMatrix(CM, lables = [\"operating\", \"bankrupt\"]):\n",
    "    df = pd.DataFrame(data = CM, columns = lables, index = lables)\n",
    "    df.index.name = \"TRUE\"\n",
    "    df.columns.name = \"PREDICTION\"\n",
    "    df.loc[\"Total\"] = df.sum()\n",
    "    df[\"Total\"] = df.sum(axis = 1)\n",
    "    return df"
   ]
  },
  {
   "cell_type": "markdown",
   "id": "fad8578c",
   "metadata": {},
   "source": [
    "#### Preparing Matrix Data Frame"
   ]
  },
  {
   "cell_type": "code",
   "execution_count": 15,
   "id": "ac8cc519",
   "metadata": {},
   "outputs": [
    {
     "data": {
      "text/html": [
       "<div>\n",
       "<style scoped>\n",
       "    .dataframe tbody tr th:only-of-type {\n",
       "        vertical-align: middle;\n",
       "    }\n",
       "\n",
       "    .dataframe tbody tr th {\n",
       "        vertical-align: top;\n",
       "    }\n",
       "\n",
       "    .dataframe thead th {\n",
       "        text-align: right;\n",
       "    }\n",
       "</style>\n",
       "<table border=\"1\" class=\"dataframe\">\n",
       "  <thead>\n",
       "    <tr style=\"text-align: right;\">\n",
       "      <th></th>\n",
       "      <th>Null</th>\n",
       "      <th>LogisticReg</th>\n",
       "      <th>ClassTree</th>\n",
       "      <th>NaiveBayes</th>\n",
       "    </tr>\n",
       "  </thead>\n",
       "  <tbody>\n",
       "    <tr>\n",
       "      <th>Accuracy</th>\n",
       "      <td>NaN</td>\n",
       "      <td>NaN</td>\n",
       "      <td>NaN</td>\n",
       "      <td>NaN</td>\n",
       "    </tr>\n",
       "    <tr>\n",
       "      <th>Precision</th>\n",
       "      <td>NaN</td>\n",
       "      <td>NaN</td>\n",
       "      <td>NaN</td>\n",
       "      <td>NaN</td>\n",
       "    </tr>\n",
       "    <tr>\n",
       "      <th>Recall</th>\n",
       "      <td>NaN</td>\n",
       "      <td>NaN</td>\n",
       "      <td>NaN</td>\n",
       "      <td>NaN</td>\n",
       "    </tr>\n",
       "  </tbody>\n",
       "</table>\n",
       "</div>"
      ],
      "text/plain": [
       "          Null LogisticReg ClassTree NaiveBayes\n",
       "Accuracy   NaN         NaN       NaN        NaN\n",
       "Precision  NaN         NaN       NaN        NaN\n",
       "Recall     NaN         NaN       NaN        NaN"
      ]
     },
     "execution_count": 15,
     "metadata": {},
     "output_type": "execute_result"
    }
   ],
   "source": [
    "metrics = pd.DataFrame(index = [\"Accuracy\", \"Precision\", \"Recall\"], \n",
    "                       columns = [\"Null\", \"LogisticReg\", \"ClassTree\", \"NaiveBayes\"])\n",
    "metrics"
   ]
  },
  {
   "cell_type": "markdown",
   "id": "03c1bad6",
   "metadata": {},
   "source": [
    "- **Accuracy**: the proportion of the total number of predictions that are correct\n",
    "- **Precision**: the proportion of positive predictions that are actually correct\n",
    "- **Recall**: the proportion of positive observed values correctly predicted as such\n",
    "\n",
    "**In this application:**\n",
    "- **Accuracy**: Overall, how often the classifier is correct\n",
    "- **Precision: Proportion of bankruptcy predictions that are actually correct**\n",
    "- **Recall**: Proportion of bankrupted companies that the classifier actually identifies"
   ]
  },
  {
   "cell_type": "markdown",
   "id": "63f9e943",
   "metadata": {},
   "source": [
    "#### Splitting and scalling"
   ]
  },
  {
   "cell_type": "code",
   "execution_count": 16,
   "id": "20f3a2ad",
   "metadata": {},
   "outputs": [],
   "source": [
    "targetName = \"bankrupt\"\n",
    "y = companies[targetName]\n",
    "RS = RobustScaler()\n",
    "X = companies.drop(targetName, axis = 1)\n",
    "X = RS.fit_transform(X)\n",
    "X_train, X_test, y_train, y_test = train_test_split(X, y, test_size = 0.2,\n",
    "                                                    random_state = 123, stratify = y)"
   ]
  },
  {
   "cell_type": "markdown",
   "id": "a6799eb5",
   "metadata": {},
   "source": [
    "### A. Null Model\n",
    "- Tip: it always predicts the most common category when we have categorical target\n",
    "- We use the NULL model for the reference"
   ]
  },
  {
   "cell_type": "code",
   "execution_count": 17,
   "id": "e961ddcf",
   "metadata": {},
   "outputs": [
    {
     "data": {
      "text/plain": [
       "0"
      ]
     },
     "execution_count": 17,
     "metadata": {},
     "output_type": "execute_result"
    }
   ],
   "source": [
    "mostComCateg = y_train.value_counts().idxmax()\n",
    "mostComCateg"
   ]
  },
  {
   "cell_type": "code",
   "execution_count": 18,
   "id": "a88bbd0b",
   "metadata": {},
   "outputs": [
    {
     "name": "stderr",
     "output_type": "stream",
     "text": [
      "C:\\Users\\tohid\\AppData\\Roaming\\Python\\Python38\\site-packages\\sklearn\\metrics\\_classification.py:1248: UndefinedMetricWarning: Precision is ill-defined and being set to 0.0 due to no predicted samples. Use `zero_division` parameter to control this behavior.\n",
      "  _warn_prf(average, modifier, msg_start, len(result))\n"
     ]
    },
    {
     "data": {
      "text/html": [
       "<div>\n",
       "<style scoped>\n",
       "    .dataframe tbody tr th:only-of-type {\n",
       "        vertical-align: middle;\n",
       "    }\n",
       "\n",
       "    .dataframe tbody tr th {\n",
       "        vertical-align: top;\n",
       "    }\n",
       "\n",
       "    .dataframe thead th {\n",
       "        text-align: right;\n",
       "    }\n",
       "</style>\n",
       "<table border=\"1\" class=\"dataframe\">\n",
       "  <thead>\n",
       "    <tr style=\"text-align: right;\">\n",
       "      <th>PREDICTION</th>\n",
       "      <th>operating</th>\n",
       "      <th>bankrupt</th>\n",
       "      <th>Total</th>\n",
       "    </tr>\n",
       "    <tr>\n",
       "      <th>TRUE</th>\n",
       "      <th></th>\n",
       "      <th></th>\n",
       "      <th></th>\n",
       "    </tr>\n",
       "  </thead>\n",
       "  <tbody>\n",
       "    <tr>\n",
       "      <th>operating</th>\n",
       "      <td>8263</td>\n",
       "      <td>0</td>\n",
       "      <td>8263</td>\n",
       "    </tr>\n",
       "    <tr>\n",
       "      <th>bankrupt</th>\n",
       "      <td>418</td>\n",
       "      <td>0</td>\n",
       "      <td>418</td>\n",
       "    </tr>\n",
       "    <tr>\n",
       "      <th>Total</th>\n",
       "      <td>8681</td>\n",
       "      <td>0</td>\n",
       "      <td>8681</td>\n",
       "    </tr>\n",
       "  </tbody>\n",
       "</table>\n",
       "</div>"
      ],
      "text/plain": [
       "PREDICTION  operating  bankrupt  Total\n",
       "TRUE                                  \n",
       "operating        8263         0   8263\n",
       "bankrupt          418         0    418\n",
       "Total            8681         0   8681"
      ]
     },
     "execution_count": 18,
     "metadata": {},
     "output_type": "execute_result"
    }
   ],
   "source": [
    "y_pred_test = [mostComCateg] * y_test.size\n",
    "\n",
    "metrics.loc[\"Accuracy\", \"Null\"] = accuracy_score(y_pred = y_pred_test, y_true = y_test)\n",
    "metrics.loc[\"Precision\", \"Null\"] = precision_score(y_pred = y_pred_test, y_true = y_test)\n",
    "metrics.loc[\"Recall\", \"Null\"] = recall_score(y_pred = y_pred_test, y_true = y_test)\n",
    "\n",
    "CM = confusion_matrix(y_pred = y_pred_test, y_true = y_test)\n",
    "printMatrix(CM)"
   ]
  },
  {
   "cell_type": "markdown",
   "id": "ebae6863",
   "metadata": {},
   "source": [
    "### B. Logistic Regression Model\n"
   ]
  },
  {
   "cell_type": "markdown",
   "id": "bf96e65f",
   "metadata": {},
   "source": [
    "- As we have a lot of features it is a good idea to have some  regularization, to prevent overfitting for this model.\n",
    "- C = 10 is the regularization parameter used here"
   ]
  },
  {
   "cell_type": "code",
   "execution_count": 19,
   "id": "152919c2",
   "metadata": {},
   "outputs": [
    {
     "data": {
      "text/html": [
       "<div>\n",
       "<style scoped>\n",
       "    .dataframe tbody tr th:only-of-type {\n",
       "        vertical-align: middle;\n",
       "    }\n",
       "\n",
       "    .dataframe tbody tr th {\n",
       "        vertical-align: top;\n",
       "    }\n",
       "\n",
       "    .dataframe thead th {\n",
       "        text-align: right;\n",
       "    }\n",
       "</style>\n",
       "<table border=\"1\" class=\"dataframe\">\n",
       "  <thead>\n",
       "    <tr style=\"text-align: right;\">\n",
       "      <th>PREDICTION</th>\n",
       "      <th>operating</th>\n",
       "      <th>bankrupt</th>\n",
       "      <th>Total</th>\n",
       "    </tr>\n",
       "    <tr>\n",
       "      <th>TRUE</th>\n",
       "      <th></th>\n",
       "      <th></th>\n",
       "      <th></th>\n",
       "    </tr>\n",
       "  </thead>\n",
       "  <tbody>\n",
       "    <tr>\n",
       "      <th>operating</th>\n",
       "      <td>8167</td>\n",
       "      <td>96</td>\n",
       "      <td>8263</td>\n",
       "    </tr>\n",
       "    <tr>\n",
       "      <th>bankrupt</th>\n",
       "      <td>402</td>\n",
       "      <td>16</td>\n",
       "      <td>418</td>\n",
       "    </tr>\n",
       "    <tr>\n",
       "      <th>Total</th>\n",
       "      <td>8569</td>\n",
       "      <td>112</td>\n",
       "      <td>8681</td>\n",
       "    </tr>\n",
       "  </tbody>\n",
       "</table>\n",
       "</div>"
      ],
      "text/plain": [
       "PREDICTION  operating  bankrupt  Total\n",
       "TRUE                                  \n",
       "operating        8167        96   8263\n",
       "bankrupt          402        16    418\n",
       "Total            8569       112   8681"
      ]
     },
     "execution_count": 19,
     "metadata": {},
     "output_type": "execute_result"
    }
   ],
   "source": [
    "from sklearn.linear_model import LogisticRegression\n",
    "LR = LogisticRegression(C = 10, n_jobs = -1, random_state = 123)\n",
    "LR.fit(X_train, y_train)\n",
    "y_pred_test = LR.predict(X_test)\n",
    "\n",
    "metrics.loc[\"Accuracy\", \"LogisticReg\"] = accuracy_score(y_pred = y_pred_test, y_true = y_test)\n",
    "metrics.loc[\"Precision\", \"LogisticReg\"] = precision_score(y_pred = y_pred_test, y_true = y_test)\n",
    "metrics.loc[\"Recall\", \"LogisticReg\"] = recall_score(y_pred = y_pred_test, y_true = y_test)\n",
    "\n",
    "CM = confusion_matrix(y_pred = y_pred_test, y_true = y_test)\n",
    "printMatrix(CM)"
   ]
  },
  {
   "cell_type": "markdown",
   "id": "9efeb831",
   "metadata": {},
   "source": [
    "### C. Classification Tree Model"
   ]
  },
  {
   "cell_type": "markdown",
   "id": "a4fe22b1",
   "metadata": {},
   "source": [
    "- Now we're using the max_depth parameter to control overfitting,\n",
    "- so we make a classification tree that has 7 levels depth in maximum."
   ]
  },
  {
   "cell_type": "code",
   "execution_count": 20,
   "id": "007f5383",
   "metadata": {},
   "outputs": [
    {
     "data": {
      "text/html": [
       "<div>\n",
       "<style scoped>\n",
       "    .dataframe tbody tr th:only-of-type {\n",
       "        vertical-align: middle;\n",
       "    }\n",
       "\n",
       "    .dataframe tbody tr th {\n",
       "        vertical-align: top;\n",
       "    }\n",
       "\n",
       "    .dataframe thead th {\n",
       "        text-align: right;\n",
       "    }\n",
       "</style>\n",
       "<table border=\"1\" class=\"dataframe\">\n",
       "  <thead>\n",
       "    <tr style=\"text-align: right;\">\n",
       "      <th>PREDICTION</th>\n",
       "      <th>operating</th>\n",
       "      <th>bankrupt</th>\n",
       "      <th>Total</th>\n",
       "    </tr>\n",
       "    <tr>\n",
       "      <th>TRUE</th>\n",
       "      <th></th>\n",
       "      <th></th>\n",
       "      <th></th>\n",
       "    </tr>\n",
       "  </thead>\n",
       "  <tbody>\n",
       "    <tr>\n",
       "      <th>operating</th>\n",
       "      <td>8220</td>\n",
       "      <td>43</td>\n",
       "      <td>8263</td>\n",
       "    </tr>\n",
       "    <tr>\n",
       "      <th>bankrupt</th>\n",
       "      <td>343</td>\n",
       "      <td>75</td>\n",
       "      <td>418</td>\n",
       "    </tr>\n",
       "    <tr>\n",
       "      <th>Total</th>\n",
       "      <td>8563</td>\n",
       "      <td>118</td>\n",
       "      <td>8681</td>\n",
       "    </tr>\n",
       "  </tbody>\n",
       "</table>\n",
       "</div>"
      ],
      "text/plain": [
       "PREDICTION  operating  bankrupt  Total\n",
       "TRUE                                  \n",
       "operating        8220        43   8263\n",
       "bankrupt          343        75    418\n",
       "Total            8563       118   8681"
      ]
     },
     "execution_count": 20,
     "metadata": {},
     "output_type": "execute_result"
    }
   ],
   "source": [
    "from sklearn.tree import DecisionTreeClassifier\n",
    "CT = DecisionTreeClassifier(max_depth = 7, random_state = 123)\n",
    "CT.fit(X_train, y_train)\n",
    "y_pred_test = CT.predict(X_test)\n",
    "\n",
    "metrics.loc[\"Accuracy\", \"ClassTree\"] = accuracy_score(y_pred = y_pred_test, y_true = y_test)\n",
    "metrics.loc[\"Precision\", \"ClassTree\"] = precision_score(y_pred = y_pred_test, y_true = y_test)\n",
    "metrics.loc[\"Recall\", \"ClassTree\"] = recall_score(y_pred = y_pred_test, y_true = y_test)\n",
    "\n",
    "CM = confusion_matrix(y_pred = y_pred_test, y_true = y_test)\n",
    "printMatrix(CM)"
   ]
  },
  {
   "cell_type": "markdown",
   "id": "4f8f6aad",
   "metadata": {},
   "source": [
    "### D. Naive Bayes Classifier Model"
   ]
  },
  {
   "cell_type": "markdown",
   "id": "dae45d13",
   "metadata": {},
   "source": [
    "Important tip: **In this example, we are using Gaussian Naive Bayes since most of the features are continuous features**"
   ]
  },
  {
   "cell_type": "code",
   "execution_count": 21,
   "id": "1bd90b02",
   "metadata": {},
   "outputs": [
    {
     "data": {
      "text/html": [
       "<div>\n",
       "<style scoped>\n",
       "    .dataframe tbody tr th:only-of-type {\n",
       "        vertical-align: middle;\n",
       "    }\n",
       "\n",
       "    .dataframe tbody tr th {\n",
       "        vertical-align: top;\n",
       "    }\n",
       "\n",
       "    .dataframe thead th {\n",
       "        text-align: right;\n",
       "    }\n",
       "</style>\n",
       "<table border=\"1\" class=\"dataframe\">\n",
       "  <thead>\n",
       "    <tr style=\"text-align: right;\">\n",
       "      <th>PREDICTION</th>\n",
       "      <th>operating</th>\n",
       "      <th>bankrupt</th>\n",
       "      <th>Total</th>\n",
       "    </tr>\n",
       "    <tr>\n",
       "      <th>TRUE</th>\n",
       "      <th></th>\n",
       "      <th></th>\n",
       "      <th></th>\n",
       "    </tr>\n",
       "  </thead>\n",
       "  <tbody>\n",
       "    <tr>\n",
       "      <th>operating</th>\n",
       "      <td>136</td>\n",
       "      <td>8127</td>\n",
       "      <td>8263</td>\n",
       "    </tr>\n",
       "    <tr>\n",
       "      <th>bankrupt</th>\n",
       "      <td>16</td>\n",
       "      <td>402</td>\n",
       "      <td>418</td>\n",
       "    </tr>\n",
       "    <tr>\n",
       "      <th>Total</th>\n",
       "      <td>152</td>\n",
       "      <td>8529</td>\n",
       "      <td>8681</td>\n",
       "    </tr>\n",
       "  </tbody>\n",
       "</table>\n",
       "</div>"
      ],
      "text/plain": [
       "PREDICTION  operating  bankrupt  Total\n",
       "TRUE                                  \n",
       "operating         136      8127   8263\n",
       "bankrupt           16       402    418\n",
       "Total             152      8529   8681"
      ]
     },
     "execution_count": 21,
     "metadata": {},
     "output_type": "execute_result"
    }
   ],
   "source": [
    "from sklearn.naive_bayes import GaussianNB\n",
    "NBC = GaussianNB()\n",
    "NBC.fit(X_train, y_train)\n",
    "y_pred_test = NBC.predict(X_test)\n",
    "\n",
    "metrics.loc[\"Accuracy\", \"NaiveBayes\"] = accuracy_score(y_pred = y_pred_test, y_true = y_test)\n",
    "metrics.loc[\"Precision\", \"NaiveBayes\"] = precision_score(y_pred = y_pred_test, y_true = y_test)\n",
    "metrics.loc[\"Recall\", \"NaiveBayes\"] = recall_score(y_pred = y_pred_test, y_true = y_test)\n",
    "\n",
    "CM = confusion_matrix(y_pred = y_pred_test, y_true = y_test)\n",
    "printMatrix(CM)"
   ]
  },
  {
   "cell_type": "code",
   "execution_count": 22,
   "id": "0692ac08",
   "metadata": {},
   "outputs": [
    {
     "data": {
      "text/html": [
       "<div>\n",
       "<style scoped>\n",
       "    .dataframe tbody tr th:only-of-type {\n",
       "        vertical-align: middle;\n",
       "    }\n",
       "\n",
       "    .dataframe tbody tr th {\n",
       "        vertical-align: top;\n",
       "    }\n",
       "\n",
       "    .dataframe thead th {\n",
       "        text-align: right;\n",
       "    }\n",
       "</style>\n",
       "<table border=\"1\" class=\"dataframe\">\n",
       "  <thead>\n",
       "    <tr style=\"text-align: right;\">\n",
       "      <th></th>\n",
       "      <th>Null</th>\n",
       "      <th>LogisticReg</th>\n",
       "      <th>ClassTree</th>\n",
       "      <th>NaiveBayes</th>\n",
       "    </tr>\n",
       "  </thead>\n",
       "  <tbody>\n",
       "    <tr>\n",
       "      <th>Accuracy</th>\n",
       "      <td>95.184887</td>\n",
       "      <td>94.263334</td>\n",
       "      <td>95.553508</td>\n",
       "      <td>6.197443</td>\n",
       "    </tr>\n",
       "    <tr>\n",
       "      <th>Precision</th>\n",
       "      <td>0.0</td>\n",
       "      <td>14.285714</td>\n",
       "      <td>63.559322</td>\n",
       "      <td>4.713331</td>\n",
       "    </tr>\n",
       "    <tr>\n",
       "      <th>Recall</th>\n",
       "      <td>0.0</td>\n",
       "      <td>3.827751</td>\n",
       "      <td>17.942584</td>\n",
       "      <td>96.172249</td>\n",
       "    </tr>\n",
       "  </tbody>\n",
       "</table>\n",
       "</div>"
      ],
      "text/plain": [
       "                Null LogisticReg  ClassTree NaiveBayes\n",
       "Accuracy   95.184887   94.263334  95.553508   6.197443\n",
       "Precision        0.0   14.285714  63.559322   4.713331\n",
       "Recall           0.0    3.827751  17.942584  96.172249"
      ]
     },
     "execution_count": 22,
     "metadata": {},
     "output_type": "execute_result"
    }
   ],
   "source": [
    "metrics = 100 * metrics\n",
    "metrics"
   ]
  },
  {
   "cell_type": "markdown",
   "id": "bc344501",
   "metadata": {},
   "source": [
    "### Plotting the models\n"
   ]
  },
  {
   "cell_type": "code",
   "execution_count": 23,
   "id": "cda4686f",
   "metadata": {},
   "outputs": [
    {
     "data": {
      "image/png": "[encoded data removed]",
      "text/plain": [
       "<Figure size 576x360 with 1 Axes>"
      ]
     },
     "metadata": {
      "needs_background": "light"
     },
     "output_type": "display_data"
    }
   ],
   "source": [
    "fig, ax = plt.subplots(figsize = (8, 5))\n",
    "metrics.plot(kind = \"bar\", ax = ax)\n",
    "ax.grid()"
   ]
  },
  {
   "cell_type": "markdown",
   "id": "7807ede4",
   "metadata": {},
   "source": [
    "#### Insight:\n",
    "In this example the Precision is the most importance factor, so the Class Tree is the best model."
   ]
  },
  {
   "cell_type": "markdown",
   "id": "cfb58c8a",
   "metadata": {},
   "source": [
    "## Improving the predictability\n"
   ]
  },
  {
   "cell_type": "markdown",
   "id": "ba8367a7",
   "metadata": {},
   "source": [
    "- We know that the classification trees work better if the classes don't show a lot of imbalance.\n",
    "- There are a lot of methods to address this issue of imbalance, we are going to do a very simple one which is undersampling the majority class. "
   ]
  },
  {
   "cell_type": "markdown",
   "id": "f29d3110",
   "metadata": {},
   "source": [
    "#### Undersampling the majority class"
   ]
  },
  {
   "cell_type": "code",
   "execution_count": 24,
   "id": "dfb2f68d",
   "metadata": {
    "scrolled": true
   },
   "outputs": [
    {
     "data": {
      "text/plain": [
       "0    41314\n",
       "1     2091\n",
       "Name: bankrupt, dtype: int64"
      ]
     },
     "execution_count": 24,
     "metadata": {},
     "output_type": "execute_result"
    }
   ],
   "source": [
    "companies[\"bankrupt\"].value_counts()"
   ]
  },
  {
   "cell_type": "markdown",
   "id": "ce10d5ed",
   "metadata": {},
   "source": [
    "- As can be seen, we have about 41k negative data and 2k positive data in the original dataset. It means this an **imbalanced dataset** which can cause to poor predictability of the models.\n",
    "- So, we're going to build a new dataset which is relatively balanced and contains about 2k positive data and 4k negative data (extracted randomly from the majority class of 41k data).\n",
    "- So we have a new dataset which about two thirds of the observations are in the negative class, and one third of the observations are in the positive class.\n",
    "- The new dataset is still imbalanced, but the unbalance is not that dramatic compared to the original dataset.\n",
    "- So let's build again all the models using the same hyperparameters to see if we get a better precision this time."
   ]
  },
  {
   "cell_type": "markdown",
   "id": "60ff9eb7",
   "metadata": {},
   "source": [
    "#### Preparing the new dataset"
   ]
  },
  {
   "cell_type": "code",
   "execution_count": 25,
   "id": "b5111479",
   "metadata": {},
   "outputs": [],
   "source": [
    "negCases = companies.loc[companies[\"bankrupt\"] == 0].sample(n = 4000)\n",
    "posCases = companies.loc[companies[\"bankrupt\"] == 1]\n",
    "companies = pd.concat([negCases, posCases])"
   ]
  },
  {
   "cell_type": "code",
   "execution_count": 26,
   "id": "3e1c5467",
   "metadata": {},
   "outputs": [
    {
     "data": {
      "text/plain": [
       "0    4000\n",
       "1    2091\n",
       "Name: bankrupt, dtype: int64"
      ]
     },
     "execution_count": 26,
     "metadata": {},
     "output_type": "execute_result"
    }
   ],
   "source": [
    "companies[\"bankrupt\"].value_counts()"
   ]
  },
  {
   "cell_type": "markdown",
   "id": "b3b9fa2c",
   "metadata": {},
   "source": [
    "#### Insight: \n",
    "So, the new dataset is much more balanced now."
   ]
  },
  {
   "cell_type": "markdown",
   "id": "50e814ee",
   "metadata": {},
   "source": [
    "#### Scalling and splitting"
   ]
  },
  {
   "cell_type": "code",
   "execution_count": 27,
   "id": "c3a3461a",
   "metadata": {},
   "outputs": [],
   "source": [
    "targetName = \"bankrupt\"\n",
    "RS = RobustScaler()\n",
    "X = companies.drop(targetName, axis = 1)\n",
    "X = RS.fit_transform(X)\n",
    "y = companies[targetName]\n",
    "X_train, X_test, y_train, y_test = train_test_split(X, y, test_size = 0.2, \n",
    "                                                    random_state = 123, stratify = y)"
   ]
  },
  {
   "cell_type": "code",
   "execution_count": 28,
   "id": "df32029f",
   "metadata": {},
   "outputs": [
    {
     "data": {
      "text/html": [
       "<div>\n",
       "<style scoped>\n",
       "    .dataframe tbody tr th:only-of-type {\n",
       "        vertical-align: middle;\n",
       "    }\n",
       "\n",
       "    .dataframe tbody tr th {\n",
       "        vertical-align: top;\n",
       "    }\n",
       "\n",
       "    .dataframe thead th {\n",
       "        text-align: right;\n",
       "    }\n",
       "</style>\n",
       "<table border=\"1\" class=\"dataframe\">\n",
       "  <thead>\n",
       "    <tr style=\"text-align: right;\">\n",
       "      <th></th>\n",
       "      <th>NullN</th>\n",
       "      <th>LogisticRegN</th>\n",
       "      <th>ClassTreeN</th>\n",
       "      <th>NaiveBayesN</th>\n",
       "    </tr>\n",
       "  </thead>\n",
       "  <tbody>\n",
       "    <tr>\n",
       "      <th>Accuracy</th>\n",
       "      <td>NaN</td>\n",
       "      <td>NaN</td>\n",
       "      <td>NaN</td>\n",
       "      <td>NaN</td>\n",
       "    </tr>\n",
       "    <tr>\n",
       "      <th>Precision</th>\n",
       "      <td>NaN</td>\n",
       "      <td>NaN</td>\n",
       "      <td>NaN</td>\n",
       "      <td>NaN</td>\n",
       "    </tr>\n",
       "    <tr>\n",
       "      <th>Recall</th>\n",
       "      <td>NaN</td>\n",
       "      <td>NaN</td>\n",
       "      <td>NaN</td>\n",
       "      <td>NaN</td>\n",
       "    </tr>\n",
       "  </tbody>\n",
       "</table>\n",
       "</div>"
      ],
      "text/plain": [
       "          NullN LogisticRegN ClassTreeN NaiveBayesN\n",
       "Accuracy    NaN          NaN        NaN         NaN\n",
       "Precision   NaN          NaN        NaN         NaN\n",
       "Recall      NaN          NaN        NaN         NaN"
      ]
     },
     "execution_count": 28,
     "metadata": {},
     "output_type": "execute_result"
    }
   ],
   "source": [
    "metricsNew = pd.DataFrame(index = [\"Accuracy\", \"Precision\", \"Recall\"], \n",
    "                       columns = [\"NullN\", \"LogisticRegN\", \"ClassTreeN\", \"NaiveBayesN\"])\n",
    "metricsNew"
   ]
  },
  {
   "cell_type": "markdown",
   "id": "9299fe62",
   "metadata": {},
   "source": [
    "### A. Null Model\n"
   ]
  },
  {
   "cell_type": "code",
   "execution_count": 29,
   "id": "0f7b48a2",
   "metadata": {},
   "outputs": [
    {
     "name": "stderr",
     "output_type": "stream",
     "text": [
      "C:\\Users\\tohid\\AppData\\Roaming\\Python\\Python38\\site-packages\\sklearn\\metrics\\_classification.py:1248: UndefinedMetricWarning: Precision is ill-defined and being set to 0.0 due to no predicted samples. Use `zero_division` parameter to control this behavior.\n",
      "  _warn_prf(average, modifier, msg_start, len(result))\n"
     ]
    },
    {
     "data": {
      "text/html": [
       "<div>\n",
       "<style scoped>\n",
       "    .dataframe tbody tr th:only-of-type {\n",
       "        vertical-align: middle;\n",
       "    }\n",
       "\n",
       "    .dataframe tbody tr th {\n",
       "        vertical-align: top;\n",
       "    }\n",
       "\n",
       "    .dataframe thead th {\n",
       "        text-align: right;\n",
       "    }\n",
       "</style>\n",
       "<table border=\"1\" class=\"dataframe\">\n",
       "  <thead>\n",
       "    <tr style=\"text-align: right;\">\n",
       "      <th>PREDICTION</th>\n",
       "      <th>operating</th>\n",
       "      <th>bankrupt</th>\n",
       "      <th>Total</th>\n",
       "    </tr>\n",
       "    <tr>\n",
       "      <th>TRUE</th>\n",
       "      <th></th>\n",
       "      <th></th>\n",
       "      <th></th>\n",
       "    </tr>\n",
       "  </thead>\n",
       "  <tbody>\n",
       "    <tr>\n",
       "      <th>operating</th>\n",
       "      <td>801</td>\n",
       "      <td>0</td>\n",
       "      <td>801</td>\n",
       "    </tr>\n",
       "    <tr>\n",
       "      <th>bankrupt</th>\n",
       "      <td>418</td>\n",
       "      <td>0</td>\n",
       "      <td>418</td>\n",
       "    </tr>\n",
       "    <tr>\n",
       "      <th>Total</th>\n",
       "      <td>1219</td>\n",
       "      <td>0</td>\n",
       "      <td>1219</td>\n",
       "    </tr>\n",
       "  </tbody>\n",
       "</table>\n",
       "</div>"
      ],
      "text/plain": [
       "PREDICTION  operating  bankrupt  Total\n",
       "TRUE                                  \n",
       "operating         801         0    801\n",
       "bankrupt          418         0    418\n",
       "Total            1219         0   1219"
      ]
     },
     "execution_count": 29,
     "metadata": {},
     "output_type": "execute_result"
    }
   ],
   "source": [
    "y_pred_test = [mostComCateg] * y_test.size\n",
    "\n",
    "metricsNew.loc[\"Accuracy\", \"NullN\"] = accuracy_score(y_pred = y_pred_test, y_true = y_test)\n",
    "metricsNew.loc[\"Precision\", \"NullN\"] = precision_score(y_pred = y_pred_test, y_true = y_test)\n",
    "metricsNew.loc[\"Recall\", \"NullN\"] = recall_score(y_pred = y_pred_test, y_true = y_test)\n",
    "\n",
    "CM = confusion_matrix(y_pred = y_pred_test, y_true = y_test)\n",
    "printMatrix(CM)"
   ]
  },
  {
   "cell_type": "markdown",
   "id": "de3b9b69",
   "metadata": {},
   "source": [
    "### B. Logistic Regression Model"
   ]
  },
  {
   "cell_type": "code",
   "execution_count": 30,
   "id": "a0cc978c",
   "metadata": {},
   "outputs": [
    {
     "data": {
      "text/html": [
       "<div>\n",
       "<style scoped>\n",
       "    .dataframe tbody tr th:only-of-type {\n",
       "        vertical-align: middle;\n",
       "    }\n",
       "\n",
       "    .dataframe tbody tr th {\n",
       "        vertical-align: top;\n",
       "    }\n",
       "\n",
       "    .dataframe thead th {\n",
       "        text-align: right;\n",
       "    }\n",
       "</style>\n",
       "<table border=\"1\" class=\"dataframe\">\n",
       "  <thead>\n",
       "    <tr style=\"text-align: right;\">\n",
       "      <th>PREDICTION</th>\n",
       "      <th>operating</th>\n",
       "      <th>bankrupt</th>\n",
       "      <th>Total</th>\n",
       "    </tr>\n",
       "    <tr>\n",
       "      <th>TRUE</th>\n",
       "      <th></th>\n",
       "      <th></th>\n",
       "      <th></th>\n",
       "    </tr>\n",
       "  </thead>\n",
       "  <tbody>\n",
       "    <tr>\n",
       "      <th>operating</th>\n",
       "      <td>595</td>\n",
       "      <td>206</td>\n",
       "      <td>801</td>\n",
       "    </tr>\n",
       "    <tr>\n",
       "      <th>bankrupt</th>\n",
       "      <td>181</td>\n",
       "      <td>237</td>\n",
       "      <td>418</td>\n",
       "    </tr>\n",
       "    <tr>\n",
       "      <th>Total</th>\n",
       "      <td>776</td>\n",
       "      <td>443</td>\n",
       "      <td>1219</td>\n",
       "    </tr>\n",
       "  </tbody>\n",
       "</table>\n",
       "</div>"
      ],
      "text/plain": [
       "PREDICTION  operating  bankrupt  Total\n",
       "TRUE                                  \n",
       "operating         595       206    801\n",
       "bankrupt          181       237    418\n",
       "Total             776       443   1219"
      ]
     },
     "execution_count": 30,
     "metadata": {},
     "output_type": "execute_result"
    }
   ],
   "source": [
    "LR1 = LogisticRegression(C = 10, n_jobs = -1, random_state = 123)\n",
    "LR1.fit(X_train, y_train)\n",
    "y_pred_test = LR1.predict(X_test)\n",
    "\n",
    "metricsNew.loc[\"Accuracy\", \"LogisticRegN\"] = accuracy_score(y_pred = y_pred_test, y_true = y_test)\n",
    "metricsNew.loc[\"Precision\", \"LogisticRegN\"] = precision_score(y_pred = y_pred_test, y_true = y_test)\n",
    "metricsNew.loc[\"Recall\", \"LogisticRegN\"] = recall_score(y_pred = y_pred_test, y_true = y_test)\n",
    "\n",
    "CM = confusion_matrix(y_pred = y_pred_test, y_true = y_test)\n",
    "printMatrix(CM)"
   ]
  },
  {
   "cell_type": "markdown",
   "id": "60b8c694",
   "metadata": {},
   "source": [
    "### C. Classification Tree Model"
   ]
  },
  {
   "cell_type": "code",
   "execution_count": 31,
   "id": "7e3dfdaf",
   "metadata": {},
   "outputs": [
    {
     "data": {
      "text/html": [
       "<div>\n",
       "<style scoped>\n",
       "    .dataframe tbody tr th:only-of-type {\n",
       "        vertical-align: middle;\n",
       "    }\n",
       "\n",
       "    .dataframe tbody tr th {\n",
       "        vertical-align: top;\n",
       "    }\n",
       "\n",
       "    .dataframe thead th {\n",
       "        text-align: right;\n",
       "    }\n",
       "</style>\n",
       "<table border=\"1\" class=\"dataframe\">\n",
       "  <thead>\n",
       "    <tr style=\"text-align: right;\">\n",
       "      <th>PREDICTION</th>\n",
       "      <th>operating</th>\n",
       "      <th>bankrupt</th>\n",
       "      <th>Total</th>\n",
       "    </tr>\n",
       "    <tr>\n",
       "      <th>TRUE</th>\n",
       "      <th></th>\n",
       "      <th></th>\n",
       "      <th></th>\n",
       "    </tr>\n",
       "  </thead>\n",
       "  <tbody>\n",
       "    <tr>\n",
       "      <th>operating</th>\n",
       "      <td>680</td>\n",
       "      <td>121</td>\n",
       "      <td>801</td>\n",
       "    </tr>\n",
       "    <tr>\n",
       "      <th>bankrupt</th>\n",
       "      <td>159</td>\n",
       "      <td>259</td>\n",
       "      <td>418</td>\n",
       "    </tr>\n",
       "    <tr>\n",
       "      <th>Total</th>\n",
       "      <td>839</td>\n",
       "      <td>380</td>\n",
       "      <td>1219</td>\n",
       "    </tr>\n",
       "  </tbody>\n",
       "</table>\n",
       "</div>"
      ],
      "text/plain": [
       "PREDICTION  operating  bankrupt  Total\n",
       "TRUE                                  \n",
       "operating         680       121    801\n",
       "bankrupt          159       259    418\n",
       "Total             839       380   1219"
      ]
     },
     "execution_count": 31,
     "metadata": {},
     "output_type": "execute_result"
    }
   ],
   "source": [
    "CT1 = DecisionTreeClassifier(max_depth = 7, random_state = 123)\n",
    "CT1.fit(X_train, y_train)\n",
    "y_pred_test = CT1.predict(X_test)\n",
    "\n",
    "metricsNew.loc[\"Accuracy\", \"ClassTreeN\"] = accuracy_score(y_pred = y_pred_test, y_true = y_test)\n",
    "metricsNew.loc[\"Precision\", \"ClassTreeN\"] = precision_score(y_pred = y_pred_test, y_true = y_test)\n",
    "metricsNew.loc[\"Recall\", \"ClassTreeN\"] = recall_score(y_pred = y_pred_test, y_true = y_test)\n",
    "\n",
    "CM = confusion_matrix(y_pred = y_pred_test, y_true = y_test)\n",
    "printMatrix(CM)"
   ]
  },
  {
   "cell_type": "markdown",
   "id": "af9875ee",
   "metadata": {},
   "source": [
    "### D. Naive Bayes Classifier Model"
   ]
  },
  {
   "cell_type": "code",
   "execution_count": 32,
   "id": "e5dd1c3a",
   "metadata": {},
   "outputs": [
    {
     "data": {
      "text/html": [
       "<div>\n",
       "<style scoped>\n",
       "    .dataframe tbody tr th:only-of-type {\n",
       "        vertical-align: middle;\n",
       "    }\n",
       "\n",
       "    .dataframe tbody tr th {\n",
       "        vertical-align: top;\n",
       "    }\n",
       "\n",
       "    .dataframe thead th {\n",
       "        text-align: right;\n",
       "    }\n",
       "</style>\n",
       "<table border=\"1\" class=\"dataframe\">\n",
       "  <thead>\n",
       "    <tr style=\"text-align: right;\">\n",
       "      <th>PREDICTION</th>\n",
       "      <th>operating</th>\n",
       "      <th>bankrupt</th>\n",
       "      <th>Total</th>\n",
       "    </tr>\n",
       "    <tr>\n",
       "      <th>TRUE</th>\n",
       "      <th></th>\n",
       "      <th></th>\n",
       "      <th></th>\n",
       "    </tr>\n",
       "  </thead>\n",
       "  <tbody>\n",
       "    <tr>\n",
       "      <th>operating</th>\n",
       "      <td>13</td>\n",
       "      <td>788</td>\n",
       "      <td>801</td>\n",
       "    </tr>\n",
       "    <tr>\n",
       "      <th>bankrupt</th>\n",
       "      <td>6</td>\n",
       "      <td>412</td>\n",
       "      <td>418</td>\n",
       "    </tr>\n",
       "    <tr>\n",
       "      <th>Total</th>\n",
       "      <td>19</td>\n",
       "      <td>1200</td>\n",
       "      <td>1219</td>\n",
       "    </tr>\n",
       "  </tbody>\n",
       "</table>\n",
       "</div>"
      ],
      "text/plain": [
       "PREDICTION  operating  bankrupt  Total\n",
       "TRUE                                  \n",
       "operating          13       788    801\n",
       "bankrupt            6       412    418\n",
       "Total              19      1200   1219"
      ]
     },
     "execution_count": 32,
     "metadata": {},
     "output_type": "execute_result"
    }
   ],
   "source": [
    "NBC1 = GaussianNB()\n",
    "NBC1.fit(X_train, y_train)\n",
    "y_pred_test = NBC1.predict(X_test)\n",
    "\n",
    "metricsNew.loc[\"Accuracy\", \"NaiveBayesN\"] = accuracy_score(y_pred = y_pred_test, y_true = y_test)\n",
    "metricsNew.loc[\"Precision\", \"NaiveBayesN\"] = precision_score(y_pred = y_pred_test, y_true = y_test)\n",
    "metricsNew.loc[\"Recall\", \"NaiveBayesN\"] = recall_score(y_pred = y_pred_test, y_true = y_test)\n",
    "\n",
    "CM = confusion_matrix(y_pred = y_pred_test, y_true = y_test)\n",
    "printMatrix(CM)"
   ]
  },
  {
   "cell_type": "code",
   "execution_count": 33,
   "id": "7c84bbb6",
   "metadata": {},
   "outputs": [
    {
     "data": {
      "text/html": [
       "<div>\n",
       "<style scoped>\n",
       "    .dataframe tbody tr th:only-of-type {\n",
       "        vertical-align: middle;\n",
       "    }\n",
       "\n",
       "    .dataframe tbody tr th {\n",
       "        vertical-align: top;\n",
       "    }\n",
       "\n",
       "    .dataframe thead th {\n",
       "        text-align: right;\n",
       "    }\n",
       "</style>\n",
       "<table border=\"1\" class=\"dataframe\">\n",
       "  <thead>\n",
       "    <tr style=\"text-align: right;\">\n",
       "      <th></th>\n",
       "      <th>NullN</th>\n",
       "      <th>LogisticRegN</th>\n",
       "      <th>ClassTreeN</th>\n",
       "      <th>NaiveBayesN</th>\n",
       "    </tr>\n",
       "  </thead>\n",
       "  <tbody>\n",
       "    <tr>\n",
       "      <th>Accuracy</th>\n",
       "      <td>65.709598</td>\n",
       "      <td>68.252666</td>\n",
       "      <td>77.030353</td>\n",
       "      <td>34.864643</td>\n",
       "    </tr>\n",
       "    <tr>\n",
       "      <th>Precision</th>\n",
       "      <td>0.0</td>\n",
       "      <td>53.498871</td>\n",
       "      <td>68.157895</td>\n",
       "      <td>34.333333</td>\n",
       "    </tr>\n",
       "    <tr>\n",
       "      <th>Recall</th>\n",
       "      <td>0.0</td>\n",
       "      <td>56.698565</td>\n",
       "      <td>61.961722</td>\n",
       "      <td>98.564593</td>\n",
       "    </tr>\n",
       "  </tbody>\n",
       "</table>\n",
       "</div>"
      ],
      "text/plain": [
       "               NullN LogisticRegN ClassTreeN NaiveBayesN\n",
       "Accuracy   65.709598    68.252666  77.030353   34.864643\n",
       "Precision        0.0    53.498871  68.157895   34.333333\n",
       "Recall           0.0    56.698565  61.961722   98.564593"
      ]
     },
     "execution_count": 33,
     "metadata": {},
     "output_type": "execute_result"
    }
   ],
   "source": [
    "metricsNew = 100 * metricsNew\n",
    "metricsNew"
   ]
  },
  {
   "cell_type": "code",
   "execution_count": 34,
   "id": "b76ee4d3",
   "metadata": {},
   "outputs": [
    {
     "data": {
      "image/png": "[encoded data removed]",
      "text/plain": [
       "<Figure size 576x360 with 1 Axes>"
      ]
     },
     "metadata": {
      "needs_background": "light"
     },
     "output_type": "display_data"
    }
   ],
   "source": [
    "fig, ax = plt.subplots(figsize = (8, 5))\n",
    "metricsNew.plot(kind = 'barh', ax = ax)\n",
    "ax.grid()"
   ]
  },
  {
   "cell_type": "markdown",
   "id": "bb38f688",
   "metadata": {},
   "source": [
    "#### Insight:\n",
    "As can be seen the precision of all models is improved. Class Tree model is still the best model and not only did the precision increase by the new dataset, but also the recall has improved significantly."
   ]
  },
  {
   "cell_type": "markdown",
   "id": "b75f1780",
   "metadata": {},
   "source": [
    "#### Comparing Naive Bayes models"
   ]
  },
  {
   "cell_type": "code",
   "execution_count": 35,
   "id": "94c99220",
   "metadata": {},
   "outputs": [],
   "source": [
    "NBdf = pd.DataFrame(index = [\"Accuracy\", \"Precision\"], \n",
    "                       columns = [\"LogisticReg\", \"LogisticReg_new\", \"\", \"\", \"ClassTree\", \"ClassTree_new\", \"\", \"\", \"NaiveBayes\", \"NaiveBayes_new\"])"
   ]
  },
  {
   "cell_type": "code",
   "execution_count": 36,
   "id": "cb9ddca2",
   "metadata": {
    "scrolled": true
   },
   "outputs": [],
   "source": [
    "NBdf.loc[\"Accuracy\", \"LogisticReg\"] = metrics.loc[\"Accuracy\", \"LogisticReg\"]\n",
    "NBdf.loc[\"Accuracy\", \"LogisticReg_new\"] = metricsNew.loc[\"Accuracy\", \"LogisticRegN\"]\n",
    "NBdf.loc[\"Accuracy\", \"ClassTree\"] = metrics.loc[\"Accuracy\", \"ClassTree\"]\n",
    "NBdf.loc[\"Accuracy\", \"ClassTree_new\"] = metricsNew.loc[\"Accuracy\", \"ClassTreeN\"]\n",
    "NBdf.loc[\"Accuracy\", \"NaiveBayes\"] = metrics.loc[\"Accuracy\", \"NaiveBayes\"]\n",
    "NBdf.loc[\"Accuracy\", \"NaiveBayes_new\"] = metricsNew.loc[\"Accuracy\", \"NaiveBayesN\"]\n",
    "NBdf.loc[\"Accuracy\", \"\"] = 0\n",
    "\n",
    "NBdf.loc[\"Precision\", \"LogisticReg\"] = metrics.loc[\"Precision\", \"LogisticReg\"] \n",
    "NBdf.loc[\"Precision\", \"LogisticReg_new\"] = metricsNew.loc[\"Precision\", \"LogisticRegN\"]\n",
    "NBdf.loc[\"Precision\", \"ClassTree\"] = metrics.loc[\"Precision\", \"ClassTree\"] \n",
    "NBdf.loc[\"Precision\", \"ClassTree_new\"] = metricsNew.loc[\"Precision\", \"ClassTreeN\"]\n",
    "NBdf.loc[\"Precision\", \"NaiveBayes\"] = metrics.loc[\"Precision\", \"NaiveBayes\"] \n",
    "NBdf.loc[\"Precision\", \"NaiveBayes_new\"] = metricsNew.loc[\"Precision\", \"NaiveBayesN\"]\n",
    "NBdf.loc[\"Precision\", \"\"] = 0"
   ]
  },
  {
   "cell_type": "code",
   "execution_count": 37,
   "id": "37696459",
   "metadata": {},
   "outputs": [
    {
     "data": {
      "image/png": "[encoded data removed]",
      "text/plain": [
       "<Figure size 1080x360 with 1 Axes>"
      ]
     },
     "metadata": {
      "needs_background": "light"
     },
     "output_type": "display_data"
    }
   ],
   "source": [
    "fig, ax = plt.subplots(figsize = (15, 5))\n",
    "NBdf.plot(kind = 'bar', ax = ax)\n",
    "ax.legend(loc = \"center\")\n",
    "ax.set_title(\"Accuracy & Precision of models made by imbalanced and relatively balanced datasets\")\n",
    "ax.set_xlabel(\"Accuracy and Precision of different models\")\n",
    "ax.set_ylabel(\"Percentage (%)\")\n",
    "ax.grid(axis = \"y\")"
   ]
  },
  {
   "cell_type": "markdown",
   "id": "865c78c8",
   "metadata": {},
   "source": [
    "#### Insight:\n",
    "- By creating a more balanced dataset, the precision improves in all models. \n",
    "- Class Tree model has the highest precision and its accuracy is whithin a resonable range. "
   ]
  },
  {
   "cell_type": "markdown",
   "id": "d4c31e4d",
   "metadata": {},
   "source": [
    "### The top features"
   ]
  },
  {
   "cell_type": "markdown",
   "id": "eff866ab",
   "metadata": {},
   "source": [
    "- We can use Classification Tree model to find the most important (the most influential features) for making the predictions.\n",
    "- So so these are the most important features for the model:"
   ]
  },
  {
   "cell_type": "code",
   "execution_count": 38,
   "id": "1f1c6da1",
   "metadata": {},
   "outputs": [
    {
     "data": {
      "text/plain": [
       "x24    0.344305\n",
       "x46    0.080570\n",
       "x5     0.060869\n",
       "x41    0.057200\n",
       "x61    0.052498\n",
       "dtype: float64"
      ]
     },
     "execution_count": 38,
     "metadata": {},
     "output_type": "execute_result"
    }
   ],
   "source": [
    "featureNam = companies.drop(\"bankrupt\", axis = 1).columns\n",
    "featureImp = pd.Series(CT1.feature_importances_, index = featureNam)\n",
    "featureImp.sort_values(ascending = False)[0:5]"
   ]
  },
  {
   "cell_type": "markdown",
   "id": "9ce88194",
   "metadata": {},
   "source": [
    "#### Insight:\n",
    "The top three most important features for this model when deciding which company will be bankrupt and which company will be still operating, are:\n",
    "- X24 gross profit (in 3 years) / total assets\n",
    "- X46 (current assets - inventory) / short-term liabilities\n",
    "- X5 [(cash + short-term securities + receivables - short-term liabilities) / (operating expenses - depreciation)] * 365"
   ]
  },
  {
   "cell_type": "markdown",
   "id": "ca66f077",
   "metadata": {},
   "source": [
    "## Making predictions"
   ]
  },
  {
   "cell_type": "code",
   "execution_count": 39,
   "id": "54fd7b7a",
   "metadata": {},
   "outputs": [],
   "source": [
    "from collections import OrderedDict"
   ]
  },
  {
   "cell_type": "code",
   "execution_count": 40,
   "id": "d701c3a7",
   "metadata": {},
   "outputs": [],
   "source": [
    "def individual_prediction(companyData, modelName):\n",
    "    companyData = RS.transform(companyData.values.reshape(1, -1))\n",
    "    prediction = modelName.predict(companyData)[0]\n",
    "    proba = modelName.predict_proba(companyData)[0][0]\n",
    "    if prediction == 0:\n",
    "        return \"Will be operating in the next 5 years with {:0.2f}% chance\".format(100 * proba)\n",
    "    else:\n",
    "        return \"Will be bankrupt in next 5 years (with {:0.2f}% chance)\".format(100 * (1 - proba))"
   ]
  },
  {
   "cell_type": "code",
   "execution_count": 41,
   "id": "c8a0bc9f",
   "metadata": {},
   "outputs": [],
   "source": [
    "companyData = OrderedDict([\n",
    "    (\"x1\", 0.3), (\"x2\",0.3), (\"x3\",0.3), (\"x4\",0.3), (\"x5\",0.3), \n",
    "    (\"x6\",0.3), (\"x7\",0.3), (\"x8\",0.3), (\"x9\",0.3), (\"x10\",0.3),\n",
    "    (\"x11\",0.3), (\"x12\",0.3), (\"x13\",0.3), (\"x14\",0.3), (\"x15\",0.3),\n",
    "    (\"x16\",0.3), (\"x17\",0.3), (\"x18\",0.3), (\"x19\",0.3), (\"x20\",0.3),\n",
    "    (\"x22\",0.3), (\"x23\",0.3), (\"x24\",0.3), (\"x25\",0.3), (\"x26\",0.3),\n",
    "    (\"x28\",0.3), (\"x29\",0.3), (\"x30\",0.3), (\"x31\",0.3), (\"x32\",0.3),\n",
    "    (\"x33\",0.3), (\"x34\",0.3), (\"x35\",0.3), (\"x36\",0.3), (\"x38\",0.3),\n",
    "    (\"x39\",0.3), (\"x40\",0.3), (\"x41\",0.3), (\"x42\",0.3), (\"x43\",0.3),\n",
    "    (\"x44\",0.3), (\"x46\",0.3), (\"x47\",0.3), (\"x48\",0.3), (\"x49\",0.3),\n",
    "    (\"x50\",0.3), (\"x51\",0.3), (\"x52\",0.3), (\"x53\",0.3), (\"x54\",0.3),\n",
    "    (\"x55\",0.3), (\"x56\",0.3), (\"x57\",0.3), (\"x58\",0.3), (\"x59\",0.3),\n",
    "    (\"x61\",3.3), (\"x62\",60.3), (\"x63\",6.3), (\"x64\",1.3)])"
   ]
  },
  {
   "cell_type": "code",
   "execution_count": 42,
   "id": "93f295a2",
   "metadata": {},
   "outputs": [],
   "source": [
    "newCompanyData = pd.Series(companyData)"
   ]
  },
  {
   "cell_type": "code",
   "execution_count": 43,
   "id": "cf0656d0",
   "metadata": {},
   "outputs": [
    {
     "data": {
      "text/plain": [
       "'Will be bankrupt in next 5 years (with 100.00% chance)'"
      ]
     },
     "execution_count": 43,
     "metadata": {},
     "output_type": "execute_result"
    }
   ],
   "source": [
    "individual_prediction(newCompanyData, CT1)"
   ]
  },
  {
   "cell_type": "code",
   "execution_count": 44,
   "id": "136a06e7",
   "metadata": {},
   "outputs": [],
   "source": [
    "knownBankruptCompany = companies[companies['bankrupt'] == 1].iloc[3].drop('bankrupt')"
   ]
  },
  {
   "cell_type": "code",
   "execution_count": 45,
   "id": "216e1e2c",
   "metadata": {},
   "outputs": [
    {
     "data": {
      "text/plain": [
       "'Will be bankrupt in next 5 years (with 100.00% chance)'"
      ]
     },
     "execution_count": 45,
     "metadata": {},
     "output_type": "execute_result"
    }
   ],
   "source": [
    "individual_prediction(knownBankruptCompany, CT1)"
   ]
  },
  {
   "cell_type": "markdown",
   "id": "2a0b563c",
   "metadata": {},
   "source": [
    "#### Insight:\n",
    "- For the new company, the classification tree model predicts 100% chance of operating.\n",
    "- For a definite bankrupting company the classification tree model predicts 100% chance of bankruptcy"
   ]
  }
 ],
 "metadata": {
  "kernelspec": {
   "display_name": "Python 3 (ipykernel)",
   "language": "python",
   "name": "python3"
  },
  "language_info": {
   "codemirror_mode": {
    "name": "ipython",
    "version": 3
   },
   "file_extension": ".py",
   "mimetype": "text/x-python",
   "name": "python",
   "nbconvert_exporter": "python",
   "pygments_lexer": "ipython3",
   "version": "3.8.11"
  }
 },
 "nbformat": 4,
 "nbformat_minor": 5
}
